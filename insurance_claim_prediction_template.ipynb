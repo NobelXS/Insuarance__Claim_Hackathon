{
 "cells": [
  {
   "cell_type": "markdown",
   "id": "6f93e3e6",
   "metadata": {},
   "source": [
    "-  **Load Standard Libraries**"
   ]
  },
  {
   "cell_type": "code",
   "execution_count": 74,
   "id": "5fce500d",
   "metadata": {},
   "outputs": [],
   "source": [
    "import pandas as pd\n",
    "import numpy as np\n",
    "import seaborn as sns\n",
    "import plotly.express as px\n",
    "import matplotlib.pyplot as plt\n",
    "%matplotlib inline\n",
    "# %matplotlib notebook\n",
    "import os\n",
    "import re\n",
    "import statsmodels.tsa.api as smt\n",
    "import statsmodels.api as sm\n",
    "import tqdm\n",
    "\n",
    "import warnings \n",
    "warnings.filterwarnings('ignore')"
   ]
  },
  {
   "cell_type": "markdown",
   "id": "99e899d5",
   "metadata": {},
   "source": [
    "# Data Preprocessing"
   ]
  },
  {
   "cell_type": "code",
   "execution_count": 14,
   "id": "bd56e022",
   "metadata": {},
   "outputs": [],
   "source": [
    "from sklearn.datasets import make_classification"
   ]
  },
  {
   "cell_type": "code",
   "execution_count": 15,
   "id": "5106d694",
   "metadata": {},
   "outputs": [],
   "source": [
    "X, y = make_classification(n_samples=1000, \n",
    "                          n_features= 10,\n",
    "                          random_state=42)"
   ]
  },
  {
   "cell_type": "code",
   "execution_count": 20,
   "id": "3bb0d5a2",
   "metadata": {},
   "outputs": [
    {
     "data": {
      "text/plain": [
       "['a', 'b', 'c', 'd', 'e', 'f', 'g', 'h', 'i', 'j']"
      ]
     },
     "execution_count": 20,
     "metadata": {},
     "output_type": "execute_result"
    }
   ],
   "source": [
    "col = 'abcdefghij'\n",
    "[x for x in col]"
   ]
  },
  {
   "cell_type": "code",
   "execution_count": 24,
   "id": "a948e823",
   "metadata": {},
   "outputs": [
    {
     "data": {
      "text/html": [
       "<div>\n",
       "<style scoped>\n",
       "    .dataframe tbody tr th:only-of-type {\n",
       "        vertical-align: middle;\n",
       "    }\n",
       "\n",
       "    .dataframe tbody tr th {\n",
       "        vertical-align: top;\n",
       "    }\n",
       "\n",
       "    .dataframe thead th {\n",
       "        text-align: right;\n",
       "    }\n",
       "</style>\n",
       "<table border=\"1\" class=\"dataframe\">\n",
       "  <thead>\n",
       "    <tr style=\"text-align: right;\">\n",
       "      <th></th>\n",
       "      <th>a</th>\n",
       "      <th>b</th>\n",
       "      <th>c</th>\n",
       "      <th>d</th>\n",
       "      <th>e</th>\n",
       "      <th>f</th>\n",
       "      <th>g</th>\n",
       "      <th>h</th>\n",
       "      <th>i</th>\n",
       "      <th>j</th>\n",
       "    </tr>\n",
       "  </thead>\n",
       "  <tbody>\n",
       "    <tr>\n",
       "      <th>0</th>\n",
       "      <td>0.964799</td>\n",
       "      <td>-0.066449</td>\n",
       "      <td>0.986768</td>\n",
       "      <td>-0.358079</td>\n",
       "      <td>0.997266</td>\n",
       "      <td>1.181890</td>\n",
       "      <td>-1.615679</td>\n",
       "      <td>-1.210161</td>\n",
       "      <td>-0.628077</td>\n",
       "      <td>1.227274</td>\n",
       "    </tr>\n",
       "    <tr>\n",
       "      <th>1</th>\n",
       "      <td>-0.916511</td>\n",
       "      <td>-0.566395</td>\n",
       "      <td>-1.008614</td>\n",
       "      <td>0.831617</td>\n",
       "      <td>-1.176962</td>\n",
       "      <td>1.820544</td>\n",
       "      <td>1.752375</td>\n",
       "      <td>-0.984534</td>\n",
       "      <td>0.363896</td>\n",
       "      <td>0.209470</td>\n",
       "    </tr>\n",
       "    <tr>\n",
       "      <th>2</th>\n",
       "      <td>-0.109484</td>\n",
       "      <td>-0.432774</td>\n",
       "      <td>-0.457649</td>\n",
       "      <td>0.793818</td>\n",
       "      <td>-0.268646</td>\n",
       "      <td>-1.836360</td>\n",
       "      <td>1.239086</td>\n",
       "      <td>-0.246383</td>\n",
       "      <td>-1.058145</td>\n",
       "      <td>-0.297376</td>\n",
       "    </tr>\n",
       "    <tr>\n",
       "      <th>3</th>\n",
       "      <td>1.750412</td>\n",
       "      <td>2.023606</td>\n",
       "      <td>1.688159</td>\n",
       "      <td>0.006800</td>\n",
       "      <td>-1.607661</td>\n",
       "      <td>0.184741</td>\n",
       "      <td>-2.619427</td>\n",
       "      <td>-0.357445</td>\n",
       "      <td>-1.473127</td>\n",
       "      <td>-0.190039</td>\n",
       "    </tr>\n",
       "    <tr>\n",
       "      <th>4</th>\n",
       "      <td>-0.224726</td>\n",
       "      <td>-0.711303</td>\n",
       "      <td>-0.220778</td>\n",
       "      <td>0.117124</td>\n",
       "      <td>1.536061</td>\n",
       "      <td>0.597538</td>\n",
       "      <td>0.348645</td>\n",
       "      <td>-0.939156</td>\n",
       "      <td>0.175915</td>\n",
       "      <td>0.236224</td>\n",
       "    </tr>\n",
       "    <tr>\n",
       "      <th>...</th>\n",
       "      <td>...</td>\n",
       "      <td>...</td>\n",
       "      <td>...</td>\n",
       "      <td>...</td>\n",
       "      <td>...</td>\n",
       "      <td>...</td>\n",
       "      <td>...</td>\n",
       "      <td>...</td>\n",
       "      <td>...</td>\n",
       "      <td>...</td>\n",
       "    </tr>\n",
       "    <tr>\n",
       "      <th>995</th>\n",
       "      <td>-1.367638</td>\n",
       "      <td>1.462255</td>\n",
       "      <td>-1.154918</td>\n",
       "      <td>-0.290454</td>\n",
       "      <td>-0.413424</td>\n",
       "      <td>0.032396</td>\n",
       "      <td>1.545490</td>\n",
       "      <td>1.428760</td>\n",
       "      <td>1.687092</td>\n",
       "      <td>1.072542</td>\n",
       "    </tr>\n",
       "    <tr>\n",
       "      <th>996</th>\n",
       "      <td>-1.514876</td>\n",
       "      <td>-3.221016</td>\n",
       "      <td>-1.300744</td>\n",
       "      <td>0.395599</td>\n",
       "      <td>-0.527994</td>\n",
       "      <td>1.353069</td>\n",
       "      <td>1.777506</td>\n",
       "      <td>-1.680870</td>\n",
       "      <td>1.798510</td>\n",
       "      <td>0.034272</td>\n",
       "    </tr>\n",
       "    <tr>\n",
       "      <th>997</th>\n",
       "      <td>1.674633</td>\n",
       "      <td>1.754933</td>\n",
       "      <td>1.586154</td>\n",
       "      <td>0.018402</td>\n",
       "      <td>-1.514470</td>\n",
       "      <td>0.321593</td>\n",
       "      <td>-2.417694</td>\n",
       "      <td>0.692723</td>\n",
       "      <td>-1.503850</td>\n",
       "      <td>0.225264</td>\n",
       "    </tr>\n",
       "    <tr>\n",
       "      <th>998</th>\n",
       "      <td>-0.778609</td>\n",
       "      <td>-0.835689</td>\n",
       "      <td>-0.194842</td>\n",
       "      <td>1.097220</td>\n",
       "      <td>0.180071</td>\n",
       "      <td>-0.272933</td>\n",
       "      <td>-0.533188</td>\n",
       "      <td>-0.497354</td>\n",
       "      <td>2.472138</td>\n",
       "      <td>0.867187</td>\n",
       "    </tr>\n",
       "    <tr>\n",
       "      <th>999</th>\n",
       "      <td>0.248454</td>\n",
       "      <td>-1.003439</td>\n",
       "      <td>0.360460</td>\n",
       "      <td>-0.331352</td>\n",
       "      <td>1.389764</td>\n",
       "      <td>-1.345210</td>\n",
       "      <td>-0.740875</td>\n",
       "      <td>0.773240</td>\n",
       "      <td>0.185734</td>\n",
       "      <td>1.416412</td>\n",
       "    </tr>\n",
       "  </tbody>\n",
       "</table>\n",
       "<p>1000 rows × 10 columns</p>\n",
       "</div>"
      ],
      "text/plain": [
       "            a         b         c         d         e         f         g  \\\n",
       "0    0.964799 -0.066449  0.986768 -0.358079  0.997266  1.181890 -1.615679   \n",
       "1   -0.916511 -0.566395 -1.008614  0.831617 -1.176962  1.820544  1.752375   \n",
       "2   -0.109484 -0.432774 -0.457649  0.793818 -0.268646 -1.836360  1.239086   \n",
       "3    1.750412  2.023606  1.688159  0.006800 -1.607661  0.184741 -2.619427   \n",
       "4   -0.224726 -0.711303 -0.220778  0.117124  1.536061  0.597538  0.348645   \n",
       "..        ...       ...       ...       ...       ...       ...       ...   \n",
       "995 -1.367638  1.462255 -1.154918 -0.290454 -0.413424  0.032396  1.545490   \n",
       "996 -1.514876 -3.221016 -1.300744  0.395599 -0.527994  1.353069  1.777506   \n",
       "997  1.674633  1.754933  1.586154  0.018402 -1.514470  0.321593 -2.417694   \n",
       "998 -0.778609 -0.835689 -0.194842  1.097220  0.180071 -0.272933 -0.533188   \n",
       "999  0.248454 -1.003439  0.360460 -0.331352  1.389764 -1.345210 -0.740875   \n",
       "\n",
       "            h         i         j  \n",
       "0   -1.210161 -0.628077  1.227274  \n",
       "1   -0.984534  0.363896  0.209470  \n",
       "2   -0.246383 -1.058145 -0.297376  \n",
       "3   -0.357445 -1.473127 -0.190039  \n",
       "4   -0.939156  0.175915  0.236224  \n",
       "..        ...       ...       ...  \n",
       "995  1.428760  1.687092  1.072542  \n",
       "996 -1.680870  1.798510  0.034272  \n",
       "997  0.692723 -1.503850  0.225264  \n",
       "998 -0.497354  2.472138  0.867187  \n",
       "999  0.773240  0.185734  1.416412  \n",
       "\n",
       "[1000 rows x 10 columns]"
      ]
     },
     "execution_count": 24,
     "metadata": {},
     "output_type": "execute_result"
    }
   ],
   "source": [
    "X = pd.DataFrame(data=X,\n",
    "            columns=[x for x in col])\n",
    "\n",
    "X"
   ]
  },
  {
   "cell_type": "code",
   "execution_count": 25,
   "id": "93f7bf0c",
   "metadata": {
    "scrolled": true
   },
   "outputs": [
    {
     "data": {
      "text/plain": [
       "array([0, 1, 1, 0, 1, 0, 0, 1, 1, 0, 0, 1, 0, 1, 1, 1, 0, 1, 1, 1, 0, 0,\n",
       "       1, 1, 0, 0, 0, 0, 1, 1, 1, 0, 0, 1, 0, 0, 0, 0, 1, 1, 0, 1, 0, 1,\n",
       "       0, 0, 0, 1, 1, 1, 1, 0, 0, 0, 1, 0, 0, 1, 0, 1, 0, 1, 1, 1, 1, 0,\n",
       "       0, 0, 1, 1, 1, 0, 1, 1, 0, 1, 1, 0, 1, 0, 1, 0, 1, 1, 1, 0, 1, 1,\n",
       "       0, 1, 0, 0, 0, 0, 1, 0, 1, 1, 0, 1, 0, 1, 0, 1, 0, 1, 0, 0, 1, 0,\n",
       "       0, 1, 1, 0, 0, 0, 1, 0, 1, 0, 0, 1, 0, 1, 1, 1, 1, 1, 0, 0, 0, 0,\n",
       "       0, 0, 0, 1, 0, 0, 0, 1, 1, 0, 1, 1, 0, 0, 1, 1, 0, 1, 1, 0, 1, 1,\n",
       "       0, 0, 1, 1, 0, 1, 1, 1, 0, 0, 1, 1, 0, 1, 1, 1, 1, 1, 0, 1, 0, 0,\n",
       "       0, 1, 0, 1, 1, 0, 0, 1, 1, 0, 0, 1, 1, 1, 0, 0, 1, 1, 0, 0, 1, 0,\n",
       "       0, 0, 0, 0, 0, 0, 1, 0, 0, 1, 1, 1, 0, 1, 0, 1, 1, 0, 0, 1, 0, 1,\n",
       "       0, 1, 1, 0, 0, 1, 1, 0, 0, 0, 1, 0, 1, 1, 0, 1, 1, 1, 1, 1, 1, 1,\n",
       "       0, 0, 0, 1, 1, 0, 1, 1, 0, 0, 0, 0, 0, 1, 0, 1, 1, 1, 1, 1, 1, 0,\n",
       "       0, 1, 1, 1, 1, 0, 1, 0, 0, 1, 1, 1, 0, 1, 1, 0, 1, 0, 1, 1, 1, 1,\n",
       "       1, 1, 0, 0, 0, 1, 1, 1, 1, 0, 1, 1, 1, 0, 1, 1, 1, 0, 0, 1, 1, 1,\n",
       "       0, 1, 1, 1, 0, 1, 1, 0, 1, 0, 1, 1, 0, 0, 1, 1, 1, 0, 1, 1, 0, 0,\n",
       "       0, 1, 0, 1, 0, 1, 0, 0, 1, 1, 1, 1, 0, 0, 0, 0, 1, 0, 0, 1, 1, 0,\n",
       "       0, 1, 0, 0, 1, 0, 1, 1, 1, 0, 0, 1, 0, 0, 1, 0, 0, 0, 1, 1, 0, 1,\n",
       "       0, 1, 0, 1, 0, 0, 1, 0, 1, 1, 0, 0, 1, 1, 1, 0, 1, 0, 0, 0, 0, 0,\n",
       "       0, 0, 0, 1, 0, 0, 0, 0, 0, 0, 1, 1, 0, 0, 0, 0, 1, 0, 1, 0, 1, 0,\n",
       "       1, 0, 0, 1, 1, 0, 1, 1, 0, 0, 1, 1, 1, 1, 0, 1, 1, 1, 1, 0, 0, 1,\n",
       "       0, 0, 0, 0, 1, 1, 0, 0, 1, 0, 1, 1, 0, 0, 0, 1, 0, 0, 1, 0, 0, 1,\n",
       "       0, 0, 0, 1, 0, 0, 1, 1, 0, 0, 0, 1, 1, 1, 0, 1, 0, 0, 0, 0, 1, 0,\n",
       "       1, 1, 1, 1, 1, 0, 0, 0, 0, 1, 1, 1, 1, 1, 1, 0, 1, 1, 1, 0, 1, 1,\n",
       "       0, 1, 0, 1, 1, 0, 0, 0, 1, 1, 1, 0, 0, 1, 1, 0, 0, 0, 0, 0, 1, 1,\n",
       "       0, 1, 0, 0, 1, 1, 0, 1, 0, 1, 1, 0, 1, 0, 0, 1, 0, 0, 0, 0, 0, 0,\n",
       "       0, 0, 1, 0, 0, 1, 0, 1, 1, 1, 1, 1, 1, 1, 0, 0, 1, 1, 1, 0, 0, 1,\n",
       "       1, 0, 1, 0, 1, 1, 0, 0, 1, 1, 1, 1, 1, 1, 0, 1, 0, 1, 1, 1, 1, 0,\n",
       "       0, 0, 0, 1, 1, 1, 1, 1, 0, 1, 1, 1, 0, 1, 0, 0, 0, 1, 1, 1, 1, 1,\n",
       "       0, 1, 0, 0, 0, 0, 0, 0, 1, 0, 0, 0, 1, 0, 0, 1, 1, 0, 0, 0, 1, 0,\n",
       "       1, 0, 0, 1, 1, 1, 0, 0, 0, 1, 1, 0, 0, 1, 1, 1, 0, 0, 1, 1, 1, 0,\n",
       "       1, 0, 1, 1, 0, 1, 0, 0, 0, 1, 1, 0, 1, 0, 1, 0, 0, 1, 1, 1, 1, 0,\n",
       "       1, 0, 1, 0, 1, 1, 0, 0, 1, 0, 1, 1, 1, 0, 1, 0, 1, 0, 0, 0, 0, 0,\n",
       "       1, 1, 1, 0, 1, 1, 0, 1, 1, 0, 0, 1, 1, 1, 1, 1, 0, 0, 0, 0, 1, 0,\n",
       "       0, 1, 0, 1, 1, 1, 1, 0, 0, 0, 1, 1, 0, 0, 1, 0, 1, 0, 0, 0, 1, 1,\n",
       "       0, 1, 0, 0, 0, 0, 0, 0, 0, 0, 1, 0, 1, 1, 0, 0, 0, 0, 0, 1, 1, 1,\n",
       "       1, 0, 0, 0, 0, 0, 0, 1, 0, 1, 1, 0, 1, 1, 0, 1, 0, 1, 1, 0, 0, 0,\n",
       "       0, 0, 1, 1, 1, 0, 0, 1, 1, 1, 1, 0, 0, 0, 1, 0, 0, 1, 1, 0, 0, 0,\n",
       "       0, 0, 1, 0, 1, 1, 0, 0, 0, 1, 1, 0, 0, 0, 1, 0, 1, 1, 1, 0, 0, 0,\n",
       "       0, 1, 0, 1, 0, 0, 1, 0, 0, 0, 1, 0, 1, 0, 0, 0, 0, 0, 0, 1, 1, 0,\n",
       "       0, 0, 1, 1, 1, 0, 1, 0, 0, 1, 0, 1, 1, 0, 1, 1, 1, 1, 0, 0, 1, 1,\n",
       "       1, 0, 0, 1, 1, 0, 1, 1, 0, 1, 1, 0, 1, 0, 0, 1, 1, 0, 1, 0, 0, 1,\n",
       "       0, 0, 1, 1, 1, 0, 1, 1, 1, 1, 0, 0, 0, 0, 1, 1, 1, 0, 1, 1, 1, 1,\n",
       "       1, 0, 0, 0, 1, 0, 1, 0, 0, 0, 1, 1, 1, 0, 1, 0, 1, 0, 0, 0, 1, 0,\n",
       "       0, 1, 1, 1, 1, 0, 0, 1, 0, 1, 1, 1, 1, 1, 0, 0, 1, 0, 0, 1, 1, 0,\n",
       "       0, 1, 0, 1, 0, 1, 0, 0, 1, 0, 1, 1, 1, 0, 0, 0, 1, 1, 0, 0, 0, 0,\n",
       "       0, 1, 1, 0, 0, 1, 1, 0, 0, 0])"
      ]
     },
     "execution_count": 25,
     "metadata": {},
     "output_type": "execute_result"
    }
   ],
   "source": [
    "y"
   ]
  },
  {
   "cell_type": "markdown",
   "id": "ed692730",
   "metadata": {},
   "source": [
    "## Load Data"
   ]
  },
  {
   "cell_type": "markdown",
   "id": "5889c55a",
   "metadata": {},
   "source": [
    "## Data Summary"
   ]
  },
  {
   "cell_type": "markdown",
   "id": "7c3a792f",
   "metadata": {},
   "source": [
    "## Datatypes"
   ]
  },
  {
   "cell_type": "markdown",
   "id": "c08e988a",
   "metadata": {},
   "source": [
    "## Duplicates"
   ]
  },
  {
   "cell_type": "markdown",
   "id": "787989d6",
   "metadata": {},
   "source": [
    "## Missing Values"
   ]
  },
  {
   "cell_type": "markdown",
   "id": "2a63cfc6",
   "metadata": {},
   "source": [
    "## Outlier Detection"
   ]
  },
  {
   "cell_type": "markdown",
   "id": "418f1805",
   "metadata": {},
   "source": [
    "# EDA"
   ]
  },
  {
   "cell_type": "markdown",
   "id": "9bfb8673",
   "metadata": {},
   "source": [
    "## Univariate Analysis"
   ]
  },
  {
   "cell_type": "markdown",
   "id": "9f690084",
   "metadata": {},
   "source": [
    "## Bivariate Analysis"
   ]
  },
  {
   "cell_type": "markdown",
   "id": "bec373c8",
   "metadata": {},
   "source": [
    "## Multivariate Analysis"
   ]
  },
  {
   "cell_type": "markdown",
   "id": "9e237eec",
   "metadata": {},
   "source": [
    "# Modelling"
   ]
  },
  {
   "cell_type": "markdown",
   "id": "e5ff7c35",
   "metadata": {},
   "source": [
    "## Get Dummies"
   ]
  },
  {
   "cell_type": "markdown",
   "id": "110d1312",
   "metadata": {},
   "source": [
    "## Features and Target Variable\n"
   ]
  },
  {
   "cell_type": "code",
   "execution_count": null,
   "id": "1f695e48",
   "metadata": {},
   "outputs": [],
   "source": [
    "y = df_train['*********']\n",
    "features = ['************']\n",
    "X = df_train[features]"
   ]
  },
  {
   "cell_type": "markdown",
   "id": "189f6bae",
   "metadata": {},
   "source": [
    "## Train Test Split"
   ]
  },
  {
   "cell_type": "code",
   "execution_count": 2,
   "id": "74e16550",
   "metadata": {},
   "outputs": [],
   "source": [
    "from sklearn.model_selection import train_test_split"
   ]
  },
  {
   "cell_type": "code",
   "execution_count": 26,
   "id": "ae211cd9",
   "metadata": {},
   "outputs": [],
   "source": [
    "x_train, x_test, y_train, y_test = train_test_split(X, y, random_state=42, test_size=0.25, shuffle=True,  stratify=y)"
   ]
  },
  {
   "cell_type": "code",
   "execution_count": 29,
   "id": "7599b094",
   "metadata": {},
   "outputs": [
    {
     "data": {
      "text/plain": [
       "((750, 10), (250, 10), (750,), (250,))"
      ]
     },
     "execution_count": 29,
     "metadata": {},
     "output_type": "execute_result"
    }
   ],
   "source": [
    "x_train.shape, x_test.shape, y_train.shape, y_test.shape"
   ]
  },
  {
   "cell_type": "markdown",
   "id": "f1447414",
   "metadata": {},
   "source": [
    "## Scaling"
   ]
  },
  {
   "cell_type": "code",
   "execution_count": 6,
   "id": "09056c77",
   "metadata": {},
   "outputs": [],
   "source": [
    "from sklearn.preprocessing  import MinMaxScaler"
   ]
  },
  {
   "cell_type": "code",
   "execution_count": 7,
   "id": "ccfe3ceb",
   "metadata": {},
   "outputs": [],
   "source": [
    "scalar = MinMaxScaler()"
   ]
  },
  {
   "cell_type": "markdown",
   "id": "e92d51b3",
   "metadata": {},
   "source": [
    "## building A Dummy Classifier"
   ]
  },
  {
   "cell_type": "code",
   "execution_count": 30,
   "id": "8189e987",
   "metadata": {},
   "outputs": [],
   "source": [
    "from sklearn.dummy import DummyClassifier"
   ]
  },
  {
   "cell_type": "code",
   "execution_count": 32,
   "id": "bfb86c79",
   "metadata": {},
   "outputs": [
    {
     "name": "stdout",
     "output_type": "stream",
     "text": [
      "Baseline Dummy Classifier score is 50.8 %\n"
     ]
    }
   ],
   "source": [
    "# create a dummy classifier\n",
    "dummy_model = DummyClassifier(strategy='uniform', random_state=42)\n",
    "\n",
    "# Train the Model\n",
    "dummy_model.fit(x_train, y_train)\n",
    "\n",
    "# predict for the validation train data\n",
    "dummy_preds = dummy_model.predict(x_test)\n",
    "\n",
    "# get accuracy score \n",
    "# compare predicted values to the actual val_test values\n",
    "dummy_score = dummy_model.score(dummy_preds, y_test)\n",
    "print('Baseline Dummy Classifier score is {} %'.format(round(dummy_score*100,2)))"
   ]
  },
  {
   "cell_type": "markdown",
   "id": "03ca65e9",
   "metadata": {},
   "source": [
    "## Evaluate Multiple Models"
   ]
  },
  {
   "cell_type": "code",
   "execution_count": 80,
   "id": "af3bd6ed",
   "metadata": {},
   "outputs": [],
   "source": [
    "from sklearn.linear_model import LogisticRegression\n",
    "from sklearn.neighbors import KNeighborsClassifier\n",
    "from sklearn.svm import SVC\n",
    "from sklearn.ensemble import RandomForestClassifier\n",
    "from sklearn.ensemble import GradientBoostingClassifier\n",
    "from sklearn.naive_bayes import GaussianNB\n",
    "from xgboost import XGBClassifier\n",
    "from sklearn.ensemble import VotingClassifier\n",
    "\n",
    "from sklearn import model_selection\n",
    "from sklearn.utils import class_weight\n",
    "from sklearn.metrics import classification_report\n",
    "from sklearn.metrics import confusion_matrix"
   ]
  },
  {
   "cell_type": "code",
   "execution_count": 96,
   "id": "1fe3cbc3",
   "metadata": {},
   "outputs": [],
   "source": [
    "def test_mulitple_models(X_train: pd.DataFrame , y_train: pd.DataFrame, X_test: pd.DataFrame, y_test: pd.DataFrame) -> pd.DataFrame:\n",
    "    \n",
    "    '''\n",
    "    Lightweight script to test many models and find winners\n",
    "    :param X_train: training split\n",
    "    :param y_train: training target vector\n",
    "    :param X_test: test split\n",
    "    :param y_test: test target vector\n",
    "    :return: DataFrame of predictions\n",
    "    '''\n",
    "    \n",
    "    dfs = []\n",
    "    \n",
    "    xgb, RF, gbm = XGBClassifier(), RandomForestClassifier(), GradientBoostingClassifier()\n",
    "    voting_classifier = VotingClassifier(estimators=[('XGB', xgb), ('RF', RF), ('GBM', gbm)], voting='hard')\n",
    "    \n",
    "    models = [\n",
    "              ('LogReg', LogisticRegression()), \n",
    "              ('RF', RandomForestClassifier()),\n",
    "              ('KNN', KNeighborsClassifier()),\n",
    "              ('SVM', SVC()), \n",
    "              ('GNB', GaussianNB()),\n",
    "              ('XGB', XGBClassifier()),\n",
    "              ('v_classifier', voting_classifier)\n",
    "            ]\n",
    "    \n",
    "    results = []\n",
    "    names = []\n",
    "    Test_Accuracy = []\n",
    "    scoring = ['accuracy', 'precision_weighted', 'recall_weighted', 'f1_weighted', 'roc_auc']\n",
    "    target_names = [\"Not Survived\", 'Survived']\n",
    "\n",
    "    for name, model in models[:-1]:\n",
    "\n",
    "        kfold = model_selection.KFold(n_splits=5, shuffle=True, random_state=42)\n",
    "        cv_results = model_selection.cross_validate(model, X_train, y_train, cv=kfold, scoring=scoring, n_jobs=-1)\n",
    "        \n",
    "        # fit the model\n",
    "        clf = model.fit(X_train, y_train)\n",
    "        \n",
    "        # Predict for validation set\n",
    "        y_pred = clf.predict(X_test)\n",
    "        \n",
    "        print(f\"****************************** {name} **************************\" )\n",
    "        print(classification_report(y_test, y_pred, target_names=target_names))\n",
    "\n",
    "        results.append(cv_results)\n",
    "    \n",
    "        Test_Accuracy.append(cv_results.get('test_accuracy')) # retreiving test scores from the cv_results dictionary output\n",
    "        names.append(name)\n",
    "\n",
    "        this_df = pd.DataFrame(cv_results)\n",
    "        this_df['model'] = name\n",
    "        dfs.append(this_df)\n",
    "\n",
    "    final = pd.concat(dfs, ignore_index=True)\n",
    "    Final_mean_score = final.groupby('model').mean()\n",
    "    Final_mean_score.reset_index(inplace=True)\n",
    "    \n",
    "    # boxplot algorithm comparison\n",
    "    fig = plt.figure(figsize=(8,8))\n",
    "    fig.suptitle('Algorithm Comparison')\n",
    "    ax = fig.add_subplot(111)\n",
    "    plt.boxplot(Test_Accuracy)\n",
    "    ax.set_xticklabels(names)\n",
    "    \n",
    "    plt.show()\n",
    "\n",
    "    return final, Final_mean_score"
   ]
  },
  {
   "cell_type": "code",
   "execution_count": 93,
   "id": "53d07142",
   "metadata": {
    "scrolled": true
   },
   "outputs": [
    {
     "name": "stdout",
     "output_type": "stream",
     "text": [
      "{'fit_time': array([0.7796154 , 0.81082392, 0.83077431, 0.81481981, 0.9014082 ]), 'score_time': array([0.04114127, 0.04189348, 0.04199576, 0.04199266, 0.031914  ]), 'test_accuracy': array([nan, nan, nan, nan, nan]), 'test_precision_weighted': array([nan, nan, nan, nan, nan]), 'test_recall_weighted': array([nan, nan, nan, nan, nan]), 'test_f1_weighted': array([nan, nan, nan, nan, nan]), 'test_roc_auc': array([nan, nan, nan, nan, nan])}\n",
      "[12:44:55] WARNING: C:/Users/Administrator/workspace/xgboost-win64_release_1.4.0/src/learner.cc:1095: Starting in XGBoost 1.3.0, the default evaluation metric used with the objective 'binary:logistic' was changed from 'error' to 'logloss'. Explicitly set eval_metric if you'd like to restore the old behavior.\n",
      "****************************** v_classifier **************************\n",
      "              precision    recall  f1-score   support\n",
      "\n",
      "Not Survived       0.87      0.97      0.92       125\n",
      "    Survived       0.96      0.86      0.91       125\n",
      "\n",
      "    accuracy                           0.91       250\n",
      "   macro avg       0.92      0.91      0.91       250\n",
      "weighted avg       0.92      0.91      0.91       250\n",
      "\n"
     ]
    },
    {
     "data": {
      "image/png": "[encoded data removed]",
      "text/plain": [
       "<Figure size 576x576 with 1 Axes>"
      ]
     },
     "metadata": {
      "needs_background": "light"
     },
     "output_type": "display_data"
    },
    {
     "data": {
      "text/plain": [
       "(   fit_time  score_time  test_accuracy  test_precision_weighted  \\\n",
       " 0  0.779615    0.041141            NaN                      NaN   \n",
       " 1  0.810824    0.041893            NaN                      NaN   \n",
       " 2  0.830774    0.041996            NaN                      NaN   \n",
       " 3  0.814820    0.041993            NaN                      NaN   \n",
       " 4  0.901408    0.031914            NaN                      NaN   \n",
       " \n",
       "    test_recall_weighted  test_f1_weighted  test_roc_auc         model  \n",
       " 0                   NaN               NaN           NaN  v_classifier  \n",
       " 1                   NaN               NaN           NaN  v_classifier  \n",
       " 2                   NaN               NaN           NaN  v_classifier  \n",
       " 3                   NaN               NaN           NaN  v_classifier  \n",
       " 4                   NaN               NaN           NaN  v_classifier  ,\n",
       "           model  fit_time  score_time  test_accuracy  test_precision_weighted  \\\n",
       " 0  v_classifier  0.827488    0.039787            NaN                      NaN   \n",
       " \n",
       "    test_recall_weighted  test_f1_weighted  test_roc_auc  \n",
       " 0                   NaN               NaN           NaN  )"
      ]
     },
     "execution_count": 93,
     "metadata": {},
     "output_type": "execute_result"
    }
   ],
   "source": [
    "test_mulitple_models(x_train, y_train, x_test, y_test)"
   ]
  },
  {
   "cell_type": "code",
   "execution_count": 97,
   "id": "9f0c5e35",
   "metadata": {},
   "outputs": [
    {
     "name": "stdout",
     "output_type": "stream",
     "text": [
      "****************************** LogReg **************************\n",
      "              precision    recall  f1-score   support\n",
      "\n",
      "Not Survived       0.80      0.87      0.84       125\n",
      "    Survived       0.86      0.78      0.82       125\n",
      "\n",
      "    accuracy                           0.83       250\n",
      "   macro avg       0.83      0.83      0.83       250\n",
      "weighted avg       0.83      0.83      0.83       250\n",
      "\n",
      "****************************** RF **************************\n",
      "              precision    recall  f1-score   support\n",
      "\n",
      "Not Survived       0.86      0.95      0.90       125\n",
      "    Survived       0.95      0.85      0.89       125\n",
      "\n",
      "    accuracy                           0.90       250\n",
      "   macro avg       0.90      0.90      0.90       250\n",
      "weighted avg       0.90      0.90      0.90       250\n",
      "\n",
      "****************************** KNN **************************\n",
      "              precision    recall  f1-score   support\n",
      "\n",
      "Not Survived       0.81      0.90      0.85       125\n",
      "    Survived       0.89      0.78      0.83       125\n",
      "\n",
      "    accuracy                           0.84       250\n",
      "   macro avg       0.85      0.84      0.84       250\n",
      "weighted avg       0.85      0.84      0.84       250\n",
      "\n",
      "****************************** SVM **************************\n",
      "              precision    recall  f1-score   support\n",
      "\n",
      "Not Survived       0.82      0.92      0.87       125\n",
      "    Survived       0.91      0.80      0.85       125\n",
      "\n",
      "    accuracy                           0.86       250\n",
      "   macro avg       0.87      0.86      0.86       250\n",
      "weighted avg       0.87      0.86      0.86       250\n",
      "\n",
      "****************************** GNB **************************\n",
      "              precision    recall  f1-score   support\n",
      "\n",
      "Not Survived       0.79      0.94      0.86       125\n",
      "    Survived       0.93      0.74      0.83       125\n",
      "\n",
      "    accuracy                           0.84       250\n",
      "   macro avg       0.86      0.84      0.84       250\n",
      "weighted avg       0.86      0.84      0.84       250\n",
      "\n",
      "[12:48:48] WARNING: C:/Users/Administrator/workspace/xgboost-win64_release_1.4.0/src/learner.cc:1095: Starting in XGBoost 1.3.0, the default evaluation metric used with the objective 'binary:logistic' was changed from 'error' to 'logloss'. Explicitly set eval_metric if you'd like to restore the old behavior.\n",
      "****************************** XGB **************************\n",
      "              precision    recall  f1-score   support\n",
      "\n",
      "Not Survived       0.86      0.97      0.91       125\n",
      "    Survived       0.96      0.85      0.90       125\n",
      "\n",
      "    accuracy                           0.91       250\n",
      "   macro avg       0.91      0.91      0.91       250\n",
      "weighted avg       0.91      0.91      0.91       250\n",
      "\n"
     ]
    },
    {
     "data": {
      "image/png": "[encoded data removed]",
      "text/plain": [
       "<Figure size 576x576 with 1 Axes>"
      ]
     },
     "metadata": {
      "needs_background": "light"
     },
     "output_type": "display_data"
    }
   ],
   "source": [
    "df_output, df_Output_mean_scores = test_mulitple_models(x_train, y_train, x_test, y_test)"
   ]
  },
  {
   "cell_type": "markdown",
   "id": "602bc111",
   "metadata": {},
   "source": [
    "### Compare Models Performance"
   ]
  },
  {
   "cell_type": "code",
   "execution_count": 98,
   "id": "3887c2b8",
   "metadata": {},
   "outputs": [
    {
     "data": {
      "image/png": "[encoded data removed]",
      "text/plain": [
       "<Figure size 1008x432 with 3 Axes>"
      ]
     },
     "metadata": {
      "needs_background": "light"
     },
     "output_type": "display_data"
    }
   ],
   "source": [
    "# create fontdicts for formatting figure text\n",
    "axtitle_dict = {'family': 'serif','color':  'darkred','weight': 'bold','size': 16}\n",
    "axlab_dict = {'family': 'serif', 'color': 'black','size': 14}\n",
    "\n",
    "df_plots = df_Output_mean_scores[['model','test_f1_weighted' , 'test_accuracy', 'test_roc_auc']]\n",
    "accuracy_columns = ['test_f1_weighted' , 'test_accuracy', 'test_roc_auc']\n",
    "\n",
    "fig = plt.figure(figsize=[14,6])\n",
    "fig.suptitle('Models Performance Score', fontsize=18, fontweight='bold')\n",
    "fig.subplots_adjust(top=0.92);\n",
    "fig.subplots_adjust(hspace=0.5, wspace=0.4);\n",
    "\n",
    "for i ,col in enumerate(accuracy_columns):\n",
    "    a = fig.add_subplot(1, 3, i+1)\n",
    "    sns.barplot(data = df_plots, x = 'model', y = col, hue ='model',\n",
    "                     order =df_plots.sort_values(col, ascending=False)['model'],\n",
    "                     dodge=False, ax =a)\n",
    "\n",
    "    a.set_title(col , fontdict=axtitle_dict)\n",
    "    a.legend([],[], frameon=False) # Remove Legend\n",
    "    plt.tight_layout()"
   ]
  },
  {
   "cell_type": "markdown",
   "id": "66a02d47",
   "metadata": {},
   "source": [
    "# Model Improvement\n",
    "\n",
    "-  We can start with Grid search to get a sense of the model's optimum performance based on the selected features\n",
    "-  The apply feature elimination, if these fails,\n",
    "\n",
    "-  We can use Feature Engineering to create new features:\n",
    "    -  then redo train test split,\n",
    "    -  retrain the model/s,\n",
    "    -  Check the score/s\n",
    "-  After, we can redo Gridsearch with these new features and explore if the model's accuracy will change\n",
    "-  We can also do feature elimination coupled with Grid or Random Search"
   ]
  },
  {
   "cell_type": "markdown",
   "id": "d93f72aa",
   "metadata": {},
   "source": [
    "## Grid Search"
   ]
  },
  {
   "cell_type": "code",
   "execution_count": 12,
   "id": "cab35330",
   "metadata": {},
   "outputs": [],
   "source": [
    "from sklearn.model_selection import GridSearchCV"
   ]
  },
  {
   "cell_type": "code",
   "execution_count": null,
   "id": "84169e4a",
   "metadata": {},
   "outputs": [],
   "source": [
    "%%time\n",
    "chosen_model = RandomForestClassifier(random_state=42, n_jobs=-1)\n",
    "\n",
    "# defining a dictionary\n",
    "parameter_grid = {'n_estimators' : [100, 150, 200, 250],\n",
    "                    'max_depth' : [5, 8, 15, 25],\n",
    "                    'min_samples_split' : [2, 5, 10, 15, 30],\n",
    "                    'min_samples_leaf' : [1, 2, 5, 10]\n",
    "                        }\n",
    "\n",
    "grid_search = GridSearchCV(chosen_model, param_grid=parameter_grid, cv = 5, verbose = 0, \n",
    "                      n_jobs = -1)\n",
    "# Fit gridsearch\n",
    "best_params = grid_search.fit(x_train, y_train)\n",
    "print(best_params)"
   ]
  },
  {
   "cell_type": "code",
   "execution_count": null,
   "id": "1dee1e13",
   "metadata": {},
   "outputs": [],
   "source": [
    "# best parameters according to grid search\n",
    "best_params.best_params_"
   ]
  },
  {
   "cell_type": "code",
   "execution_count": null,
   "id": "330ad54b",
   "metadata": {},
   "outputs": [],
   "source": [
    "# fit the best model with new parameters from gridsearch\n",
    "chosen_model = RandomForestClassifier(random_state = 42, max_depth= 8,\n",
    "                                         min_samples_leaf= 1,\n",
    "                                         min_samples_split= 2,\n",
    "                                         n_estimators= 100, n_jobs= -1) \n",
    "\n",
    "# fit the model\n",
    "model_chosen_model = chosen_model.fit(x_train, y_train) \n",
    "\n",
    "# predict for val_train\n",
    "y_pred_optimized_2 = model_chosen_model.predict(x_test)\n",
    "\n",
    "# get accuray score\n",
    "optimized_score_2 = accuracy_score(y_pred_optimized_2, y_test)\n",
    "print(\"The accuracy score is: \", round(optimized_score_2,2))"
   ]
  },
  {
   "cell_type": "markdown",
   "id": "98267b42",
   "metadata": {},
   "source": [
    "### Feature Importance"
   ]
  },
  {
   "cell_type": "markdown",
   "id": "1f1fc309",
   "metadata": {},
   "source": [
    "## Feature Elimination"
   ]
  },
  {
   "cell_type": "code",
   "execution_count": 13,
   "id": "d3cbda9e",
   "metadata": {},
   "outputs": [],
   "source": [
    "from sklearn.feature_selection import RFECV"
   ]
  },
  {
   "cell_type": "code",
   "execution_count": null,
   "id": "b930a86c",
   "metadata": {},
   "outputs": [],
   "source": [
    "%%time\n",
    "features = x_train.copy()\n",
    "target = x_test.copy()\n",
    "\n",
    "\n",
    "rfecv = RFECV(estimator=RF, step=1, cv=5, n_jobs=-1, min_features_to_select=3)\n",
    "rfecv.fit(features, target)\n",
    "rfecv.transform(features)"
   ]
  },
  {
   "cell_type": "code",
   "execution_count": null,
   "id": "f506ddd2",
   "metadata": {},
   "outputs": [],
   "source": [
    "# rank features\n",
    "rank = rfecv.ranking_.tolist()\n",
    "best_features = rfecv.support_.tolist()\n",
    "\n",
    "# create a dataframe for the ranked features\n",
    "RankFeatures = pd.DataFrame({'columns':features.columns.tolist()[:],\n",
    "                             'feature_rank':rank,\n",
    "                             'best_feature':best_features}).sort_values(by='feature_rank', ascending=True).reset_index(drop=True)"
   ]
  },
  {
   "cell_type": "code",
   "execution_count": null,
   "id": "fb6b0319",
   "metadata": {},
   "outputs": [],
   "source": [
    "RankFeatures"
   ]
  }
 ],
 "metadata": {
  "kernelspec": {
   "display_name": "Python 3 (ipykernel)",
   "language": "python",
   "name": "python3"
  },
  "language_info": {
   "codemirror_mode": {
    "name": "ipython",
    "version": 3
   },
   "file_extension": ".py",
   "mimetype": "text/x-python",
   "name": "python",
   "nbconvert_exporter": "python",
   "pygments_lexer": "ipython3",
   "version": "3.8.13"
  },
  "toc": {
   "base_numbering": 1,
   "nav_menu": {},
   "number_sections": true,
   "sideBar": true,
   "skip_h1_title": false,
   "title_cell": "Table of Contents",
   "title_sidebar": "Contents",
   "toc_cell": false,
   "toc_position": {},
   "toc_section_display": true,
   "toc_window_display": false
  }
 },
 "nbformat": 4,
 "nbformat_minor": 5
}
