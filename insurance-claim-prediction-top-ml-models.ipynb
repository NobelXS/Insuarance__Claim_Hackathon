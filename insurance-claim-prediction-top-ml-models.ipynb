{
 "cells": [
  {
   "cell_type": "markdown",
   "metadata": {
    "id": "f4b9b716",
    "papermill": {
     "duration": 0.065318,
     "end_time": "2021-12-25T19:35:33.529511",
     "exception": false,
     "start_time": "2021-12-25T19:35:33.464193",
     "status": "completed"
    },
    "tags": []
   },
   "source": [
    "---"
   ]
  },
  {
   "cell_type": "markdown",
   "metadata": {
    "id": "e2e0a13b",
    "papermill": {
     "duration": 0.063427,
     "end_time": "2021-12-25T19:35:33.654219",
     "exception": false,
     "start_time": "2021-12-25T19:35:33.590792",
     "status": "completed"
    },
    "tags": []
   },
   "source": [
    "# <center> ★ AI / ML Project - Insurance Claim Anticipation ★\n",
    "#### <center> ***Domain: Healthcare***"
   ]
  },
  {
   "cell_type": "markdown",
   "metadata": {
    "id": "24d701df",
    "papermill": {
     "duration": 0.059253,
     "end_time": "2021-12-25T19:35:33.774456",
     "exception": false,
     "start_time": "2021-12-25T19:35:33.715203",
     "status": "completed"
    },
    "tags": []
   },
   "source": [
    "---"
   ]
  },
  {
   "cell_type": "markdown",
   "metadata": {
    "_kg_hide-input": true,
    "execution": {
     "iopub.execute_input": "2021-12-25T19:35:33.906503Z",
     "iopub.status.busy": "2021-12-25T19:35:33.905772Z",
     "iopub.status.idle": "2021-12-25T19:35:34.494777Z",
     "shell.execute_reply": "2021-12-25T19:35:34.495305Z",
     "shell.execute_reply.started": "2021-12-25T19:28:19.775221Z"
    },
    "papermill": {
     "duration": 0.659322,
     "end_time": "2021-12-25T19:35:34.495625",
     "exception": false,
     "start_time": "2021-12-25T19:35:33.836303",
     "status": "completed"
    },
    "tags": []
   },
   "source": [
    "<center><img src=\"https://raw.githubusercontent.com/Masterx-AI/Project_Insurance_Claim_Anticipation_/main/ica.jpg\" style=\"width: 700px;\"/>"
   ]
  },
  {
   "cell_type": "markdown",
   "metadata": {
    "id": "45759f35",
    "papermill": {
     "duration": 0.058852,
     "end_time": "2021-12-25T19:35:34.614892",
     "exception": false,
     "start_time": "2021-12-25T19:35:34.55604",
     "status": "completed"
    },
    "tags": []
   },
   "source": [
    "---"
   ]
  },
  {
   "cell_type": "markdown",
   "metadata": {
    "id": "b9d0f5f9",
    "papermill": {
     "duration": 0.062624,
     "end_time": "2021-12-25T19:35:34.737376",
     "exception": false,
     "start_time": "2021-12-25T19:35:34.674752",
     "status": "completed"
    },
    "tags": []
   },
   "source": [
    "### Description:\n",
    "\n",
    "A simple yet challenging project, to anticipate whether the insurance will be claimed or not.\n",
    "The complexity arises due to the fact that the dataset has fewer samples, & is slightly imbalanced.\n",
    "Can you overcome these obstacles & build a good predictive model to classify them?\n",
    "\n",
    "**This data frame contains the following columns:**\n",
    "\n",
    "* age : age of policyholder\n",
    "* sex: gender of policy holder (female=0, male=1)\n",
    "* bmi: Body mass index, providing an understanding of body, weights that are relatively high or low relative to height, objective index of body weight (kg / m ^ 2) using the ratio of height to weight, ideally 18.5 to 25\n",
    "* steps: average walking steps per day of policyholder\n",
    "* children: number of children / dependents of policyholder\n",
    "* smoker: smoking state of policyholder (non-smoke=0;smoker=1)\n",
    "* region: the residential area of policyholder in the US (northeast=0, northwest=1, southeast=2, southwest=3)\n",
    "* charges: individual medical costs billed by health insurance\n",
    "* insuranceclaim: yes=1, no=0\n",
    "\n",
    "This is \"Sample Insurance Claim Prediction Dataset\" which based on \"[Medical Cost Personal Datasets][1]\" to update sample value on top.\n",
    "\n",
    "### Acknowledgements:\n",
    "This dataset has been referred from Kaggle.\n",
    "\n",
    "### Objective:\n",
    "- Understand the Dataset & cleanup (if required).\n",
    "- Build classification model to predict weather the insurance will be claimed or not.\n",
    "- Also fine-tune the hyperparameters & compare the evaluation metrics of vaious classification algorithms."
   ]
  },
  {
   "cell_type": "markdown",
   "metadata": {
    "id": "ffc470fa",
    "papermill": {
     "duration": 0.061728,
     "end_time": "2021-12-25T19:35:34.863749",
     "exception": false,
     "start_time": "2021-12-25T19:35:34.802021",
     "status": "completed"
    },
    "tags": []
   },
   "source": [
    "---"
   ]
  },
  {
   "cell_type": "markdown",
   "metadata": {
    "papermill": {
     "duration": 0.063974,
     "end_time": "2021-12-25T19:35:34.993568",
     "exception": false,
     "start_time": "2021-12-25T19:35:34.929594",
     "status": "completed"
    },
    "tags": []
   },
   "source": [
    "# <center> Stractegic Plan of Action:"
   ]
  },
  {
   "cell_type": "markdown",
   "metadata": {
    "papermill": {
     "duration": 0.063048,
     "end_time": "2021-12-25T19:35:35.121553",
     "exception": false,
     "start_time": "2021-12-25T19:35:35.058505",
     "status": "completed"
    },
    "tags": []
   },
   "source": [
    "**We aim to solve the problem statement by creating a plan of action, Here are some of the necessary steps:**\n",
    "1. Data Exploration\n",
    "2. Exploratory Data Analysis (EDA)\n",
    "3. Data Pre-processing\n",
    "4. Data Manipulation\n",
    "5. Feature Selection/Extraction\n",
    "6. Predictive Modelling\n",
    "7. Project Outcomes & Conclusion"
   ]
  },
  {
   "cell_type": "markdown",
   "metadata": {
    "papermill": {
     "duration": 0.06691,
     "end_time": "2021-12-25T19:35:35.248699",
     "exception": false,
     "start_time": "2021-12-25T19:35:35.181789",
     "status": "completed"
    },
    "tags": []
   },
   "source": [
    "---"
   ]
  },
  {
   "cell_type": "markdown",
   "metadata": {
    "id": "34257b36",
    "papermill": {
     "duration": 0.061577,
     "end_time": "2021-12-25T19:35:35.372335",
     "exception": false,
     "start_time": "2021-12-25T19:35:35.310758",
     "status": "completed"
    },
    "tags": []
   },
   "source": [
    "# <center>1. Data Exploration"
   ]
  },
  {
   "cell_type": "code",
   "execution_count": null,
   "metadata": {
    "_kg_hide-input": true,
    "execution": {
     "iopub.execute_input": "2022-01-26T19:11:18.135624Z",
     "iopub.status.busy": "2022-01-26T19:11:18.134806Z",
     "iopub.status.idle": "2022-01-26T19:11:18.149581Z",
     "shell.execute_reply": "2022-01-26T19:11:18.148662Z",
     "shell.execute_reply.started": "2022-01-26T19:11:18.135579Z"
    },
    "id": "14121a2f",
    "papermill": {
     "duration": 2.067621,
     "end_time": "2021-12-25T19:35:37.501494",
     "exception": false,
     "start_time": "2021-12-25T19:35:35.433873",
     "status": "completed"
    },
    "tags": []
   },
   "outputs": [],
   "source": [
    "#Importing the basic librarires\n",
    "\n",
    "import os\n",
    "import math\n",
    "import scipy\n",
    "import numpy as np\n",
    "import pandas as pd\n",
    "import seaborn as sns\n",
    "from tqdm import tqdm\n",
    "from sklearn import tree\n",
    "from scipy.stats import randint\n",
    "from scipy.stats import loguniform\n",
    "from IPython.display import display\n",
    "\n",
    "from sklearn.decomposition import PCA\n",
    "from imblearn.over_sampling import SMOTE\n",
    "from sklearn.feature_selection import RFE\n",
    "from sklearn.preprocessing import OneHotEncoder\n",
    "from sklearn.preprocessing import StandardScaler\n",
    "from sklearn.model_selection import train_test_split\n",
    "from statsmodels.stats.outliers_influence import variance_inflation_factor\n",
    "\n",
    "from sklearn.model_selection import RandomizedSearchCV\n",
    "from sklearn.model_selection import RepeatedStratifiedKFold\n",
    "\n",
    "from sklearn.svm import SVC\n",
    "from xgboost import XGBClassifier\n",
    "from sklearn.naive_bayes import BernoulliNB\n",
    "from sklearn.tree import DecisionTreeClassifier\n",
    "from sklearn.ensemble import RandomForestClassifier\n",
    "from sklearn.linear_model import LogisticRegression\n",
    "from sklearn.neighbors import KNeighborsClassifier\n",
    "from sklearn.ensemble import GradientBoostingClassifier\n",
    "\n",
    "from sklearn.linear_model import LinearRegression\n",
    "from sklearn.preprocessing import PolynomialFeatures\n",
    "\n",
    "from scikitplot.metrics import plot_roc_curve as auc_roc\n",
    "from sklearn.metrics import accuracy_score, confusion_matrix, classification_report, \\\n",
    "f1_score, roc_auc_score, roc_curve, precision_score, recall_score\n",
    "\n",
    "import matplotlib.pyplot as plt\n",
    "plt.rcParams['figure.figsize'] = [10,6]\n",
    "\n",
    "import warnings \n",
    "warnings.filterwarnings('ignore')\n",
    "\n",
    "pd.set_option('display.max_columns', 50)"
   ]
  },
  {
   "cell_type": "code",
   "execution_count": null,
   "metadata": {
    "execution": {
     "iopub.execute_input": "2022-01-26T19:11:18.152564Z",
     "iopub.status.busy": "2022-01-26T19:11:18.151961Z",
     "iopub.status.idle": "2022-01-26T19:11:18.182658Z",
     "shell.execute_reply": "2022-01-26T19:11:18.182059Z",
     "shell.execute_reply.started": "2022-01-26T19:11:18.152517Z"
    },
    "id": "608f5aea",
    "outputId": "ce439606-ebcb-489e-e391-81fd6fe5ae96",
    "papermill": {
     "duration": 0.116159,
     "end_time": "2021-12-25T19:35:37.678386",
     "exception": false,
     "start_time": "2021-12-25T19:35:37.562227",
     "status": "completed"
    },
    "tags": []
   },
   "outputs": [],
   "source": [
    "#Importing the dataset\n",
    "\n",
    "\n",
    "df = pd.read_csv('../input/insurance-claim-dataset/Insurance.csv')\n",
    "\n",
    "target = 'insuranceclaim'\n",
    "labels = ['Claimed','Not Claimed']\n",
    "features = [i for i in df.columns.values if i not in [target]]\n",
    "\n",
    "original_df = df.copy(deep=True)\n",
    "display(df.head())\n",
    "\n",
    "print('\\n\\033[1mInference:\\033[0m The Datset consists of {} features & {} samples.'.format(df.shape[1], df.shape[0]))"
   ]
  },
  {
   "cell_type": "code",
   "execution_count": null,
   "metadata": {
    "execution": {
     "iopub.execute_input": "2022-01-26T19:11:18.184375Z",
     "iopub.status.busy": "2022-01-26T19:11:18.183652Z",
     "iopub.status.idle": "2022-01-26T19:11:18.204858Z",
     "shell.execute_reply": "2022-01-26T19:11:18.204073Z",
     "shell.execute_reply.started": "2022-01-26T19:11:18.184342Z"
    },
    "id": "67ecc02a",
    "outputId": "01a1684f-fb0b-472d-b398-f598878dc4a5",
    "papermill": {
     "duration": 0.097258,
     "end_time": "2021-12-25T19:35:37.840165",
     "exception": false,
     "start_time": "2021-12-25T19:35:37.742907",
     "status": "completed"
    },
    "tags": []
   },
   "outputs": [],
   "source": [
    "#Checking the dtypes of all the columns\n",
    "\n",
    "df.info()"
   ]
  },
  {
   "cell_type": "code",
   "execution_count": null,
   "metadata": {
    "execution": {
     "iopub.execute_input": "2022-01-26T19:11:18.207523Z",
     "iopub.status.busy": "2022-01-26T19:11:18.207143Z",
     "iopub.status.idle": "2022-01-26T19:11:18.225415Z",
     "shell.execute_reply": "2022-01-26T19:11:18.224397Z",
     "shell.execute_reply.started": "2022-01-26T19:11:18.207492Z"
    },
    "id": "e72cd720",
    "outputId": "060ec210-88f7-4a6c-f96f-4e8fb960743d",
    "papermill": {
     "duration": 0.074693,
     "end_time": "2021-12-25T19:35:37.980907",
     "exception": false,
     "start_time": "2021-12-25T19:35:37.906214",
     "status": "completed"
    },
    "tags": []
   },
   "outputs": [],
   "source": [
    "#Checking number of unique rows in each feature\n",
    "\n",
    "df.nunique().sort_values()"
   ]
  },
  {
   "cell_type": "code",
   "execution_count": null,
   "metadata": {
    "execution": {
     "iopub.execute_input": "2022-01-26T19:11:18.227309Z",
     "iopub.status.busy": "2022-01-26T19:11:18.226722Z",
     "iopub.status.idle": "2022-01-26T19:11:18.241901Z",
     "shell.execute_reply": "2022-01-26T19:11:18.240951Z",
     "shell.execute_reply.started": "2022-01-26T19:11:18.227265Z"
    },
    "id": "8bd62707",
    "outputId": "0a97efd3-bd26-4ca6-8f33-e41359553e16",
    "papermill": {
     "duration": 0.082301,
     "end_time": "2021-12-25T19:35:38.125868",
     "exception": false,
     "start_time": "2021-12-25T19:35:38.043567",
     "status": "completed"
    },
    "tags": []
   },
   "outputs": [],
   "source": [
    "#Checking number of unique rows in each feature\n",
    "\n",
    "nu = df[features].nunique().sort_values()\n",
    "nf = []; cf = []; nnf = 0; ncf = 0; #numerical & categorical features\n",
    "\n",
    "for i in range(df[features].shape[1]):\n",
    "    if nu.values[i]<=7:cf.append(nu.index[i])\n",
    "    else: nf.append(nu.index[i])\n",
    "\n",
    "print('\\n\\033[1mInference:\\033[0m The Datset has {} numerical & {} categorical features.'.format(len(nf),len(cf)))"
   ]
  },
  {
   "cell_type": "code",
   "execution_count": null,
   "metadata": {
    "execution": {
     "iopub.execute_input": "2022-01-26T19:11:18.244015Z",
     "iopub.status.busy": "2022-01-26T19:11:18.243136Z",
     "iopub.status.idle": "2022-01-26T19:11:18.280811Z",
     "shell.execute_reply": "2022-01-26T19:11:18.279974Z",
     "shell.execute_reply.started": "2022-01-26T19:11:18.243983Z"
    },
    "id": "1f2b3ecc",
    "outputId": "0f6ac2da-32e2-4b4c-e88d-741c9b4574a6",
    "papermill": {
     "duration": 0.10369,
     "end_time": "2021-12-25T19:35:38.291133",
     "exception": false,
     "start_time": "2021-12-25T19:35:38.187443",
     "status": "completed"
    },
    "tags": []
   },
   "outputs": [],
   "source": [
    "#Checking the stats of all the columns\n",
    "\n",
    "display(df.describe())"
   ]
  },
  {
   "cell_type": "markdown",
   "metadata": {
    "id": "7c785e92",
    "papermill": {
     "duration": 0.061913,
     "end_time": "2021-12-25T19:35:38.41565",
     "exception": false,
     "start_time": "2021-12-25T19:35:38.353737",
     "status": "completed"
    },
    "tags": []
   },
   "source": [
    "**Inference:** The stats seem to be fine, let us gain more undestanding by visualising the dataset."
   ]
  },
  {
   "cell_type": "markdown",
   "metadata": {
    "id": "ada9e209",
    "papermill": {
     "duration": 0.062136,
     "end_time": "2021-12-25T19:35:38.541849",
     "exception": false,
     "start_time": "2021-12-25T19:35:38.479713",
     "status": "completed"
    },
    "tags": []
   },
   "source": [
    "---"
   ]
  },
  {
   "cell_type": "markdown",
   "metadata": {
    "id": "fdf33033",
    "papermill": {
     "duration": 0.061946,
     "end_time": "2021-12-25T19:35:38.668356",
     "exception": false,
     "start_time": "2021-12-25T19:35:38.60641",
     "status": "completed"
    },
    "tags": []
   },
   "source": [
    "# <center> 2. Exploratory Data Analysis (EDA)"
   ]
  },
  {
   "cell_type": "code",
   "execution_count": null,
   "metadata": {
    "execution": {
     "iopub.execute_input": "2022-01-26T19:11:18.282678Z",
     "iopub.status.busy": "2022-01-26T19:11:18.282266Z",
     "iopub.status.idle": "2022-01-26T19:11:18.459639Z",
     "shell.execute_reply": "2022-01-26T19:11:18.458503Z",
     "shell.execute_reply.started": "2022-01-26T19:11:18.282636Z"
    },
    "id": "13b9d4a2",
    "outputId": "90c71336-4e68-409e-fad5-708bccccf7dc",
    "papermill": {
     "duration": 0.243615,
     "end_time": "2021-12-25T19:35:38.975462",
     "exception": false,
     "start_time": "2021-12-25T19:35:38.731847",
     "status": "completed"
    },
    "tags": []
   },
   "outputs": [],
   "source": [
    "#Let us first analyze the distribution of the target variable\n",
    "\n",
    "MAP={}\n",
    "for e, i in enumerate(sorted(df[target].unique())):\n",
    "    MAP[i]=labels[e]\n",
    "#MAP={0:'Not-Survived',1:'Survived'}\n",
    "df1 = df.copy()\n",
    "df1[target]=df1[target].map(MAP)\n",
    "explode=np.zeros(len(labels))\n",
    "explode[-1]=0.1\n",
    "print('\\033[1mTarget Variable Distribution'.center(55))\n",
    "plt.pie(df1[target].value_counts(), labels=df1[target].value_counts().index, counterclock=False, shadow=True, \n",
    "        explode=explode, autopct='%1.1f%%', radius=1, startangle=0)\n",
    "plt.show()"
   ]
  },
  {
   "cell_type": "markdown",
   "metadata": {
    "id": "f55ea687",
    "papermill": {
     "duration": 0.064429,
     "end_time": "2021-12-25T19:35:39.103593",
     "exception": false,
     "start_time": "2021-12-25T19:35:39.039164",
     "status": "completed"
    },
    "tags": []
   },
   "source": [
    "**Inference:** The Target Variable seems to be slightly imbalanced! Hence we shall try to perform data augmentation."
   ]
  },
  {
   "cell_type": "code",
   "execution_count": null,
   "metadata": {
    "execution": {
     "iopub.execute_input": "2022-01-26T19:11:18.463693Z",
     "iopub.status.busy": "2022-01-26T19:11:18.46297Z",
     "iopub.status.idle": "2022-01-26T19:11:19.03484Z",
     "shell.execute_reply": "2022-01-26T19:11:19.033992Z",
     "shell.execute_reply.started": "2022-01-26T19:11:18.463639Z"
    },
    "id": "39ea3286",
    "outputId": "86fbc7ec-c956-4846-a19a-4f8f1dbcf478",
    "papermill": {
     "duration": 1.16151,
     "end_time": "2021-12-25T19:35:40.328713",
     "exception": false,
     "start_time": "2021-12-25T19:35:39.167203",
     "status": "completed"
    },
    "tags": []
   },
   "outputs": [],
   "source": [
    "#Visualising the categorical features \n",
    "\n",
    "print('\\033[1mVisualising Categorical Features:'.center(100))\n",
    "\n",
    "n=3\n",
    "plt.figure(figsize=[15,3*math.ceil(len(cf)/n)])\n",
    "\n",
    "for i in range(len(cf)):\n",
    "    if df[cf[i]].nunique()<=6:\n",
    "        plt.subplot(math.ceil(len(cf)/n),n,i+1)\n",
    "        sns.countplot(df[cf[i]])\n",
    "    else:\n",
    "        plt.subplot(3,1,i-1)\n",
    "        sns.countplot(df[cf[i]])\n",
    "plt.tight_layout()\n",
    "plt.show()"
   ]
  },
  {
   "cell_type": "markdown",
   "metadata": {
    "id": "91d5f4f0",
    "papermill": {
     "duration": 0.064487,
     "end_time": "2021-12-25T19:35:40.458688",
     "exception": false,
     "start_time": "2021-12-25T19:35:40.394201",
     "status": "completed"
    },
    "tags": []
   },
   "source": [
    "**Inference:** Visualizing the categorical features reveal lot of information about the dataset."
   ]
  },
  {
   "cell_type": "code",
   "execution_count": null,
   "metadata": {
    "execution": {
     "iopub.execute_input": "2022-01-26T19:11:19.036841Z",
     "iopub.status.busy": "2022-01-26T19:11:19.036461Z",
     "iopub.status.idle": "2022-01-26T19:11:20.313486Z",
     "shell.execute_reply": "2022-01-26T19:11:20.312669Z",
     "shell.execute_reply.started": "2022-01-26T19:11:19.036798Z"
    },
    "id": "3120759d",
    "outputId": "87a560f1-0a37-484e-9c9f-1ae91a34d445",
    "papermill": {
     "duration": 1.946358,
     "end_time": "2021-12-25T19:35:42.470383",
     "exception": false,
     "start_time": "2021-12-25T19:35:40.524025",
     "status": "completed"
    },
    "tags": []
   },
   "outputs": [],
   "source": [
    "#Understanding the feature set\n",
    "\n",
    "print('\\033[1mFeatures Distribution'.center(100))\n",
    "\n",
    "nf = [i for i in features if i not in cf]\n",
    "\n",
    "plt.figure(figsize=[15,3*math.ceil(len(features)/3)])\n",
    "for c in range(len(nf)):\n",
    "    plt.subplot(math.ceil(len(features)/3),3,c+1)\n",
    "    sns.distplot(df[nf[c]])\n",
    "plt.tight_layout()\n",
    "plt.show()\n",
    "\n",
    "plt.figure(figsize=[15,3*math.ceil(len(features)/3)])\n",
    "for c in range(len(nf)):\n",
    "    plt.subplot(math.ceil(len(features)/3),3,c+1)\n",
    "    df.boxplot(nf[c])\n",
    "plt.tight_layout()\n",
    "plt.show()"
   ]
  },
  {
   "cell_type": "markdown",
   "metadata": {
    "id": "b2a2d578",
    "papermill": {
     "duration": 0.068541,
     "end_time": "2021-12-25T19:35:42.611393",
     "exception": false,
     "start_time": "2021-12-25T19:35:42.542852",
     "status": "completed"
    },
    "tags": []
   },
   "source": [
    "**Inference:** The data is somewhat normally distributed. And there are many outliers present in the dataset. We shall fix these outliers.."
   ]
  },
  {
   "cell_type": "code",
   "execution_count": null,
   "metadata": {
    "execution": {
     "iopub.execute_input": "2022-01-26T19:11:20.314892Z",
     "iopub.status.busy": "2022-01-26T19:11:20.31467Z",
     "iopub.status.idle": "2022-01-26T19:11:53.482136Z",
     "shell.execute_reply": "2022-01-26T19:11:53.481255Z",
     "shell.execute_reply.started": "2022-01-26T19:11:20.314865Z"
    },
    "id": "46d7953e",
    "outputId": "db940832-2a60-46d2-85b0-5fe2a6646294",
    "papermill": {
     "duration": 61.136353,
     "end_time": "2021-12-25T19:36:43.818699",
     "exception": false,
     "start_time": "2021-12-25T19:35:42.682346",
     "status": "completed"
    },
    "tags": []
   },
   "outputs": [],
   "source": [
    "#Understanding the relationship between all the features\n",
    "\n",
    "g=sns.pairplot(df1, hue=target, size=4)\n",
    "g.map_upper(sns.kdeplot, levels=1, color=\".2\")\n",
    "plt.show()"
   ]
  },
  {
   "cell_type": "markdown",
   "metadata": {
    "id": "5a329c3f",
    "papermill": {
     "duration": 0.126049,
     "end_time": "2021-12-25T19:36:44.074341",
     "exception": false,
     "start_time": "2021-12-25T19:36:43.948292",
     "status": "completed"
    },
    "tags": []
   },
   "source": [
    "**Inference:** The data samples of most of the features do show some patterns. Also they seem\n",
    "to have lot of overlap for the outcome classes, making it difficult to be distingusihable. \n",
    "Let is proceed to perform cleanup on the data to remove the irregularities..."
   ]
  },
  {
   "cell_type": "markdown",
   "metadata": {
    "id": "3f837e24",
    "papermill": {
     "duration": 0.125099,
     "end_time": "2021-12-25T19:36:44.327853",
     "exception": false,
     "start_time": "2021-12-25T19:36:44.202754",
     "status": "completed"
    },
    "tags": []
   },
   "source": [
    "---"
   ]
  },
  {
   "cell_type": "markdown",
   "metadata": {
    "id": "6f3612c2",
    "papermill": {
     "duration": 0.125961,
     "end_time": "2021-12-25T19:36:44.579576",
     "exception": false,
     "start_time": "2021-12-25T19:36:44.453615",
     "status": "completed"
    },
    "tags": []
   },
   "source": [
    "# <center> 3. Data Preprocessing"
   ]
  },
  {
   "cell_type": "code",
   "execution_count": null,
   "metadata": {
    "execution": {
     "iopub.execute_input": "2022-01-26T19:11:53.484392Z",
     "iopub.status.busy": "2022-01-26T19:11:53.48356Z",
     "iopub.status.idle": "2022-01-26T19:11:53.496161Z",
     "shell.execute_reply": "2022-01-26T19:11:53.495263Z",
     "shell.execute_reply.started": "2022-01-26T19:11:53.484333Z"
    },
    "id": "58cc576e",
    "outputId": "454dd773-e152-49df-e694-cc52d27584c8",
    "papermill": {
     "duration": 0.150745,
     "end_time": "2021-12-25T19:36:44.856499",
     "exception": false,
     "start_time": "2021-12-25T19:36:44.705754",
     "status": "completed"
    },
    "tags": []
   },
   "outputs": [],
   "source": [
    "#Removal of any Duplicate rows (if any)\n",
    "\n",
    "counter = 0\n",
    "r,c = original_df.shape\n",
    "\n",
    "df1 = df.copy()\n",
    "df1.drop_duplicates(inplace=True)\n",
    "df1.reset_index(drop=True,inplace=True)\n",
    "\n",
    "if df1.shape==(r,c):\n",
    "    print('\\n\\033[1mInference:\\033[0m The dataset doesn\\'t have any duplicates')\n",
    "else:\n",
    "    print(f'\\n\\033[1mInference:\\033[0m Number of duplicates dropped ---> {r-df1.shape[0]}')"
   ]
  },
  {
   "cell_type": "code",
   "execution_count": null,
   "metadata": {
    "execution": {
     "iopub.execute_input": "2022-01-26T19:11:53.498047Z",
     "iopub.status.busy": "2022-01-26T19:11:53.497753Z",
     "iopub.status.idle": "2022-01-26T19:11:53.514989Z",
     "shell.execute_reply": "2022-01-26T19:11:53.514073Z",
     "shell.execute_reply.started": "2022-01-26T19:11:53.498013Z"
    },
    "id": "4ce5947e",
    "outputId": "eee2826d-0990-4dcf-c4e8-c25d3db6eb51",
    "papermill": {
     "duration": 0.14405,
     "end_time": "2021-12-25T19:36:45.127786",
     "exception": false,
     "start_time": "2021-12-25T19:36:44.983736",
     "status": "completed"
    },
    "tags": []
   },
   "outputs": [],
   "source": [
    "#Check for empty elements\n",
    "\n",
    "nvc = pd.DataFrame(df1.isnull().sum().sort_values(), columns=['Total Null Values'])\n",
    "nvc['Percentage'] = round(nvc['Total Null Values']/df1.shape[0],3)*100\n",
    "print(nvc)"
   ]
  },
  {
   "cell_type": "markdown",
   "metadata": {
    "papermill": {
     "duration": 0.126016,
     "end_time": "2021-12-25T19:36:45.380877",
     "exception": false,
     "start_time": "2021-12-25T19:36:45.254861",
     "status": "completed"
    },
    "tags": []
   },
   "source": [
    "**Inference:** There are many outliers in the dataset. Let us try to impute the missing values"
   ]
  },
  {
   "cell_type": "code",
   "execution_count": null,
   "metadata": {
    "execution": {
     "iopub.execute_input": "2022-01-26T19:11:53.517017Z",
     "iopub.status.busy": "2022-01-26T19:11:53.516557Z",
     "iopub.status.idle": "2022-01-26T19:11:53.54517Z",
     "shell.execute_reply": "2022-01-26T19:11:53.544191Z",
     "shell.execute_reply.started": "2022-01-26T19:11:53.516985Z"
    },
    "papermill": {
     "duration": 0.172378,
     "end_time": "2021-12-25T19:36:45.679914",
     "exception": false,
     "start_time": "2021-12-25T19:36:45.507536",
     "status": "completed"
    },
    "tags": []
   },
   "outputs": [],
   "source": [
    "#Converting categorical Columns to Numeric\n",
    "\n",
    "#df1 = df.copy()\n",
    "ecc = nvc[nvc['Percentage']!=0].index.values\n",
    "dcc = [i for i in df.columns if i not in ecc]\n",
    "\n",
    "df3 = df1[dcc]\n",
    "fcc = [i for i in cf if i not in ecc]\n",
    "\n",
    "#One-Hot Binay Encoding\n",
    "oh=True\n",
    "dm=True\n",
    "for i in fcc:\n",
    "    #print(i)\n",
    "    if df3[i].nunique()==2:\n",
    "        if oh==True: print(\"\\033[1m\\nOne-Hot Encoding on features:\\033[0m\")\n",
    "        print(i);oh=False\n",
    "        df3[i]=pd.get_dummies(df3[i], drop_first=True, prefix=str(i))\n",
    "    if (df3[i].nunique()>2 and df3[i].nunique()<17):\n",
    "        if dm==True: print(\"\\n\\033[1mDummy Encoding on features:\\033[0m\")\n",
    "        print(i);dm=False\n",
    "        df3 = pd.concat([df3.drop([i], axis=1), pd.DataFrame(pd.get_dummies(df3[i], drop_first=True, prefix=str(i)))],axis=1)\n",
    "        \n",
    "df3.shape"
   ]
  },
  {
   "cell_type": "code",
   "execution_count": null,
   "metadata": {
    "execution": {
     "iopub.execute_input": "2022-01-26T19:11:53.546789Z",
     "iopub.status.busy": "2022-01-26T19:11:53.546551Z",
     "iopub.status.idle": "2022-01-26T19:11:53.577867Z",
     "shell.execute_reply": "2022-01-26T19:11:53.577003Z",
     "shell.execute_reply.started": "2022-01-26T19:11:53.546752Z"
    },
    "id": "65b4c8b5",
    "outputId": "5a40039b-f559-4ec6-812b-d425f6b268bc",
    "papermill": {
     "duration": 0.173565,
     "end_time": "2021-12-25T19:36:46.512362",
     "exception": false,
     "start_time": "2021-12-25T19:36:46.338797",
     "status": "completed"
    },
    "tags": []
   },
   "outputs": [],
   "source": [
    "#Removal of outlier:\n",
    "\n",
    "df4 = df3.copy()\n",
    "\n",
    "for i in [i for i in df4.columns]:\n",
    "    if df4[i].nunique()>=12:\n",
    "        Q1 = df4[i].quantile(0.25)\n",
    "        Q3 = df4[i].quantile(0.75)\n",
    "        IQR = Q3 - Q1\n",
    "        df4 = df4[df4[i] <= (Q3+(1.5*IQR))]\n",
    "        df4 = df4[df4[i] >= (Q1-(1.5*IQR))]\n",
    "df4 = df4.reset_index(drop=True)\n",
    "display(df4.head())\n",
    "print('\\n\\033[1mInference:\\033[0m Before removal of outliers, The dataset had {} samples.'.format(df1.shape[0]))\n",
    "print('\\033[1mInference:\\033[0m After removal of outliers, The dataset now has {} samples.'.format(df4.shape[0]))"
   ]
  },
  {
   "cell_type": "code",
   "execution_count": null,
   "metadata": {
    "execution": {
     "iopub.execute_input": "2022-01-26T19:11:53.579315Z",
     "iopub.status.busy": "2022-01-26T19:11:53.579074Z",
     "iopub.status.idle": "2022-01-26T19:11:53.604273Z",
     "shell.execute_reply": "2022-01-26T19:11:53.60325Z",
     "shell.execute_reply.started": "2022-01-26T19:11:53.579286Z"
    },
    "id": "5434312b",
    "outputId": "41a8a440-2d4a-45bb-a6fc-daddd82096b3",
    "papermill": {
     "duration": 0.161821,
     "end_time": "2021-12-25T19:36:46.803098",
     "exception": false,
     "start_time": "2021-12-25T19:36:46.641277",
     "status": "completed"
    },
    "tags": []
   },
   "outputs": [],
   "source": [
    "#Fixing the imbalance using SMOTE Technique\n",
    "\n",
    "df5 = df4.copy()\n",
    "\n",
    "print('Original class distribution:')\n",
    "print(df5[target].value_counts())\n",
    "\n",
    "xf = df5.columns\n",
    "X = df5.drop([target],axis=1)\n",
    "Y = df5[target]\n",
    "\n",
    "smote = SMOTE()\n",
    "X, Y = smote.fit_resample(X, Y)\n",
    "\n",
    "df5 = pd.DataFrame(X, columns=xf)\n",
    "df5[target] = Y\n",
    "\n",
    "print('\\nClass distribution after applying SMOTE Technique:',)\n",
    "print(Y.value_counts())"
   ]
  },
  {
   "cell_type": "code",
   "execution_count": null,
   "metadata": {
    "execution": {
     "iopub.execute_input": "2022-01-26T19:11:53.606439Z",
     "iopub.status.busy": "2022-01-26T19:11:53.605563Z",
     "iopub.status.idle": "2022-01-26T19:11:53.823158Z",
     "shell.execute_reply": "2022-01-26T19:11:53.822277Z",
     "shell.execute_reply.started": "2022-01-26T19:11:53.60639Z"
    },
    "id": "afcceb4f",
    "outputId": "2c262ee8-acfe-4943-ae12-fd6c45905277",
    "papermill": {
     "duration": 0.313306,
     "end_time": "2021-12-25T19:36:47.252828",
     "exception": false,
     "start_time": "2021-12-25T19:36:46.939522",
     "status": "completed"
    },
    "tags": []
   },
   "outputs": [],
   "source": [
    "#Final Dataset size after performing Preprocessing\n",
    "\n",
    "df = df5.copy()\n",
    "plt.title('Final Dataset Samples')\n",
    "plt.pie([df.shape[0], original_df.shape[0]-df4.shape[0], df5.shape[0]-df4.shape[0]], radius = 1, shadow=True,\n",
    "        labels=['Retained','Dropped','Augmented'], counterclock=False, autopct='%1.1f%%', pctdistance=0.9, explode=[0,0,0])\n",
    "plt.pie([df.shape[0]], labels=['100%'], labeldistance=-0, radius=0.78, shadow=True, colors=['powderblue'])\n",
    "plt.show()\n",
    "\n",
    "print('\\n\\033[1mInference:\\033[0mThe final dataset after cleanup has {} samples & {} columns.'.format(df.shape[0], df.shape[1]))"
   ]
  },
  {
   "cell_type": "markdown",
   "metadata": {
    "id": "9c9b4be0",
    "papermill": {
     "duration": 0.132131,
     "end_time": "2021-12-25T19:36:47.516045",
     "exception": false,
     "start_time": "2021-12-25T19:36:47.383914",
     "status": "completed"
    },
    "tags": []
   },
   "source": [
    "---"
   ]
  },
  {
   "cell_type": "markdown",
   "metadata": {
    "id": "1088fde8",
    "papermill": {
     "duration": 0.134787,
     "end_time": "2021-12-25T19:36:47.783056",
     "exception": false,
     "start_time": "2021-12-25T19:36:47.648269",
     "status": "completed"
    },
    "tags": []
   },
   "source": [
    "# <center> 4. Data Manipulation"
   ]
  },
  {
   "cell_type": "code",
   "execution_count": null,
   "metadata": {
    "execution": {
     "iopub.execute_input": "2022-01-26T19:11:53.828505Z",
     "iopub.status.busy": "2022-01-26T19:11:53.827889Z",
     "iopub.status.idle": "2022-01-26T19:11:53.846758Z",
     "shell.execute_reply": "2022-01-26T19:11:53.845892Z",
     "shell.execute_reply.started": "2022-01-26T19:11:53.828445Z"
    },
    "id": "35eca1d5",
    "outputId": "08959220-f0c6-4844-bcad-088fc70aa58c",
    "papermill": {
     "duration": 0.152002,
     "end_time": "2021-12-25T19:36:48.071096",
     "exception": false,
     "start_time": "2021-12-25T19:36:47.919094",
     "status": "completed"
    },
    "tags": []
   },
   "outputs": [],
   "source": [
    "#Splitting the data intro training & testing sets\n",
    "\n",
    "df = df5.copy()\n",
    "\n",
    "X = df.drop([target],axis=1)\n",
    "Y = df[target]\n",
    "Train_X, Test_X, Train_Y, Test_Y = train_test_split(X, Y, train_size=0.8, test_size=0.2, random_state=0)\n",
    "\n",
    "print('Original set  ---> ',X.shape,Y.shape,'\\nTraining set  ---> ',Train_X.shape,Train_Y.shape,'\\nTesting set   ---> ', Test_X.shape,'', Test_Y.shape)"
   ]
  },
  {
   "cell_type": "code",
   "execution_count": null,
   "metadata": {
    "execution": {
     "iopub.execute_input": "2022-01-26T19:11:53.85015Z",
     "iopub.status.busy": "2022-01-26T19:11:53.849427Z",
     "iopub.status.idle": "2022-01-26T19:11:53.961961Z",
     "shell.execute_reply": "2022-01-26T19:11:53.961147Z",
     "shell.execute_reply.started": "2022-01-26T19:11:53.8501Z"
    },
    "id": "a4975ac6",
    "outputId": "ac976b84-dbcd-4e54-ae87-9e189b2fc167",
    "papermill": {
     "duration": 0.319685,
     "end_time": "2021-12-25T19:36:48.52299",
     "exception": false,
     "start_time": "2021-12-25T19:36:48.203305",
     "status": "completed"
    },
    "tags": []
   },
   "outputs": [],
   "source": [
    "#Feature Scaling (Standardization)\n",
    "\n",
    "std = StandardScaler()\n",
    "\n",
    "print('\\033[1mStandardardization on Training set'.center(100))\n",
    "Train_X_std = std.fit_transform(Train_X)\n",
    "Train_X_std = pd.DataFrame(Train_X_std, columns=X.columns)\n",
    "display(Train_X_std.describe())\n",
    "\n",
    "print('\\n','\\033[1mStandardardization on Testing set'.center(100))\n",
    "Test_X_std = std.transform(Test_X)\n",
    "Test_X_std = pd.DataFrame(Test_X_std, columns=X.columns)\n",
    "display(Test_X_std.describe())"
   ]
  },
  {
   "cell_type": "markdown",
   "metadata": {
    "id": "83dc6b40",
    "papermill": {
     "duration": 0.135331,
     "end_time": "2021-12-25T19:36:48.797879",
     "exception": false,
     "start_time": "2021-12-25T19:36:48.662548",
     "status": "completed"
    },
    "tags": []
   },
   "source": [
    "---"
   ]
  },
  {
   "cell_type": "markdown",
   "metadata": {
    "id": "8d444cab",
    "papermill": {
     "duration": 0.26298,
     "end_time": "2021-12-25T19:36:49.195708",
     "exception": false,
     "start_time": "2021-12-25T19:36:48.932728",
     "status": "completed"
    },
    "tags": []
   },
   "source": [
    "# <center> 5. Feature Selection/Extraction"
   ]
  },
  {
   "cell_type": "code",
   "execution_count": null,
   "metadata": {
    "execution": {
     "iopub.execute_input": "2022-01-26T19:11:53.963319Z",
     "iopub.status.busy": "2022-01-26T19:11:53.963107Z",
     "iopub.status.idle": "2022-01-26T19:11:55.104763Z",
     "shell.execute_reply": "2022-01-26T19:11:55.104183Z",
     "shell.execute_reply.started": "2022-01-26T19:11:53.963294Z"
    },
    "id": "d63e0ceb",
    "outputId": "eac7e7f7-5950-423d-f191-0ba96ac0f9f5",
    "papermill": {
     "duration": 4.484204,
     "end_time": "2021-12-25T19:36:53.815731",
     "exception": false,
     "start_time": "2021-12-25T19:36:49.331527",
     "status": "completed"
    },
    "tags": []
   },
   "outputs": [],
   "source": [
    "#Checking the correlation\n",
    "\n",
    "features = df.columns\n",
    "plt.figure(figsize=[12,10])\n",
    "plt.title('Features Correlation-Plot')\n",
    "sns.heatmap(df[features].corr(), vmin=-1, vmax=1, center=0, annot=True) #, \n",
    "plt.show()"
   ]
  },
  {
   "cell_type": "markdown",
   "metadata": {
    "id": "951e5b34",
    "papermill": {
     "duration": 0.153919,
     "end_time": "2021-12-25T19:36:54.134326",
     "exception": false,
     "start_time": "2021-12-25T19:36:53.980407",
     "status": "completed"
    },
    "tags": []
   },
   "source": [
    "**Inference:** \\\n",
    "Correlation plt between the variables convey lot of information about the realationship betweem them. There seems to be strong multicollinearity in the dataset.\n",
    "\n",
    "Let us check with different techniques if we can improve the model's performance by performing Feature Selection/Extraction steps to take care of these multi-collinearity..."
   ]
  },
  {
   "cell_type": "markdown",
   "metadata": {
    "id": "351ea8b9",
    "papermill": {
     "duration": 0.145128,
     "end_time": "2021-12-25T19:36:54.425663",
     "exception": false,
     "start_time": "2021-12-25T19:36:54.280535",
     "status": "completed"
    },
    "tags": []
   },
   "source": [
    "**Strategy:** \\\n",
    "We can fix these multicollinearity with two techniques:\n",
    "1. Manual Method - Variance Inflation Factor (VIF)\n",
    "2. Automatic Method - Recursive Feature Elimination (RFE)\n",
    "3. Decomposition Method - Principle Component Analysis (PCA)"
   ]
  },
  {
   "cell_type": "markdown",
   "metadata": {
    "id": "56e610df",
    "papermill": {
     "duration": 0.144734,
     "end_time": "2021-12-25T19:36:54.716157",
     "exception": false,
     "start_time": "2021-12-25T19:36:54.571423",
     "status": "completed"
    },
    "tags": []
   },
   "source": [
    "## 5a. Manual Method - VIF"
   ]
  },
  {
   "cell_type": "code",
   "execution_count": null,
   "metadata": {
    "execution": {
     "iopub.execute_input": "2022-01-26T19:11:55.106658Z",
     "iopub.status.busy": "2022-01-26T19:11:55.10586Z",
     "iopub.status.idle": "2022-01-26T19:12:00.718085Z",
     "shell.execute_reply": "2022-01-26T19:12:00.717282Z",
     "shell.execute_reply.started": "2022-01-26T19:11:55.106615Z"
    },
    "id": "921699c9",
    "outputId": "939c3559-0e1c-4c05-972d-2617e02b3271",
    "papermill": {
     "duration": 17.08197,
     "end_time": "2021-12-25T19:37:11.944818",
     "exception": false,
     "start_time": "2021-12-25T19:36:54.862848",
     "status": "completed"
    },
    "tags": []
   },
   "outputs": [],
   "source": [
    "# Calculate the VIFs to remove multicollinearity\n",
    "\n",
    "DROP=[]; scores1=[]; scores2=[]; scores3=[]\n",
    "#scores.append(f1_score(Test_Y,LogisticRegression().fit(Train_X_std, Train_Y).predict(Test_X_std)))\n",
    "scores1.append(f1_score(Test_Y,LogisticRegression().fit(Train_X_std.drop(DROP,axis=1), Train_Y).predict(Test_X_std.drop(DROP,axis=1)),average='weighted')*100)\n",
    "scores2.append(f1_score(Test_Y,RandomForestClassifier().fit(Train_X_std.drop(DROP,axis=1), Train_Y).predict(Test_X_std.drop(DROP,axis=1)),average='weighted')*100)\n",
    "scores3.append(f1_score(Test_Y,XGBClassifier().fit(Train_X_std.drop(DROP,axis=1), Train_Y, eval_metric='logloss').predict(Test_X_std.drop(DROP,axis=1)),average='weighted')*100)\n",
    "        \n",
    "for i in tqdm(range(len(X.columns.values)-1)):\n",
    "    vif = pd.DataFrame()\n",
    "    Xs = X.drop(DROP,axis=1)\n",
    "    #print(DROP)\n",
    "    vif['Features'] = Xs.columns\n",
    "    vif['VIF'] = [variance_inflation_factor(Xs.values, i) for i in range(Xs.shape[1])]\n",
    "    vif['VIF'] = round(vif['VIF'], 2)\n",
    "    vif = vif.sort_values(by = \"VIF\", ascending = False)\n",
    "    vif.reset_index(drop=True, inplace=True)\n",
    "    DROP.append(vif.Features[0])\n",
    "    if vif.VIF[0]>1:\n",
    "        scores1.append(f1_score(Test_Y,LogisticRegression().fit(Train_X_std.drop(DROP,axis=1), Train_Y).predict(Test_X_std.drop(DROP,axis=1)),average='weighted')*100)\n",
    "        scores2.append(f1_score(Test_Y,RandomForestClassifier().fit(Train_X_std.drop(DROP,axis=1), Train_Y).predict(Test_X_std.drop(DROP,axis=1)),average='weighted')*100)\n",
    "        scores3.append(f1_score(Test_Y,XGBClassifier().fit(Train_X_std.drop(DROP,axis=1), Train_Y, eval_metric='logloss').predict(Test_X_std.drop(DROP,axis=1)),average='weighted')*100)\n",
    "    #print(scores)\n",
    "    \n",
    "plt.plot(scores1, label='LR')\n",
    "plt.plot(scores2, label='RF')\n",
    "plt.plot(scores3, label='XG')\n",
    "#plt.ylim([0.7,0.85])\n",
    "plt.legend()\n",
    "plt.grid()\n",
    "plt.show()"
   ]
  },
  {
   "cell_type": "markdown",
   "metadata": {
    "id": "2bced51f",
    "papermill": {
     "duration": 0.15726,
     "end_time": "2021-12-25T19:37:12.267782",
     "exception": false,
     "start_time": "2021-12-25T19:37:12.110522",
     "status": "completed"
    },
    "tags": []
   },
   "source": [
    "## 5b. Automatic Method - RFE"
   ]
  },
  {
   "cell_type": "code",
   "execution_count": null,
   "metadata": {
    "execution": {
     "iopub.execute_input": "2022-01-26T19:12:00.72015Z",
     "iopub.status.busy": "2022-01-26T19:12:00.719676Z",
     "iopub.status.idle": "2022-01-26T19:12:11.336636Z",
     "shell.execute_reply": "2022-01-26T19:12:11.335892Z",
     "shell.execute_reply.started": "2022-01-26T19:12:00.720106Z"
    },
    "id": "c25b01a0",
    "outputId": "1d9c98c7-b89a-4d30-a9c6-2a75894b433d",
    "papermill": {
     "duration": 27.100809,
     "end_time": "2021-12-25T19:37:39.51572",
     "exception": false,
     "start_time": "2021-12-25T19:37:12.414911",
     "status": "completed"
    },
    "tags": []
   },
   "outputs": [],
   "source": [
    "# Applying Recurrsive Feature Elimination\n",
    "\n",
    "# Running RFE with the output number of the variable equal to 10\n",
    "LR = LogisticRegression()#.fit(Train_X_std, Train_Y)\n",
    "scores1=[]; scores2=[]; scores3=[]\n",
    "scores1.append(f1_score(Test_Y,LogisticRegression().fit(Train_X_std, Train_Y).predict(Test_X_std),average='weighted')*100)\n",
    "scores2.append(f1_score(Test_Y,RandomForestClassifier().fit(Train_X_std, Train_Y).predict(Test_X_std),average='weighted')*100)\n",
    "scores3.append(f1_score(Test_Y,XGBClassifier().fit(Train_X_std, Train_Y, eval_metric='logloss').predict(Test_X_std),average='weighted')*100)\n",
    "\n",
    "for i in tqdm(range(len(X.columns.values))):\n",
    "    rfe = RFE(LR,n_features_to_select=len(Train_X_std.columns)-i)   \n",
    "    rfe = rfe.fit(Train_X_std, Train_Y)\n",
    "    scores1.append(f1_score(Test_Y,LogisticRegression().fit(Train_X_std[Train_X_std.columns[rfe.support_]], Train_Y).predict(Test_X_std[Train_X_std.columns[rfe.support_]]),average='weighted')*100)\n",
    "    scores2.append(f1_score(Test_Y,RandomForestClassifier().fit(Train_X_std[Train_X_std.columns[rfe.support_]], Train_Y).predict(Test_X_std[Train_X_std.columns[rfe.support_]]),average='weighted')*100)\n",
    "    scores3.append(f1_score(Test_Y,XGBClassifier().fit(Train_X_std[Train_X_std.columns[rfe.support_]], Train_Y, eval_metric='logloss').predict(Test_X_std[Train_X_std.columns[rfe.support_]]),average='weighted')*100)\n",
    "    \n",
    "plt.plot(scores1, label='LR')\n",
    "plt.plot(scores2, label='RF')\n",
    "plt.plot(scores3, label='XG')\n",
    "#plt.ylim([0.80,0.84])\n",
    "plt.legend()\n",
    "plt.grid()\n",
    "plt.show()"
   ]
  },
  {
   "cell_type": "code",
   "execution_count": null,
   "metadata": {
    "execution": {
     "iopub.execute_input": "2022-01-26T19:12:11.338702Z",
     "iopub.status.busy": "2022-01-26T19:12:11.338072Z",
     "iopub.status.idle": "2022-01-26T19:12:11.64497Z",
     "shell.execute_reply": "2022-01-26T19:12:11.64425Z",
     "shell.execute_reply.started": "2022-01-26T19:12:11.338655Z"
    },
    "papermill": {
     "duration": 0.482568,
     "end_time": "2021-12-25T19:37:40.149611",
     "exception": false,
     "start_time": "2021-12-25T19:37:39.667043",
     "status": "completed"
    },
    "tags": []
   },
   "outputs": [],
   "source": [
    "from sklearn.decomposition import PCA\n",
    "\n",
    "pca = PCA().fit(Train_X_std)\n",
    "\n",
    "fig, ax = plt.subplots(figsize=(14,6))\n",
    "x_values = range(1, pca.n_components_+1)\n",
    "ax.bar(x_values, pca.explained_variance_ratio_, lw=2, label='Explained Variance')\n",
    "ax.plot(x_values, np.cumsum(pca.explained_variance_ratio_), lw=2, label='Cumulative Explained Variance', color='red')\n",
    "plt.plot([0,pca.n_components_+1],[0.90,0.90],'g--')\n",
    "plt.plot([6,6],[0,1], 'g--')\n",
    "ax.set_title('Explained variance of components')\n",
    "ax.set_xlabel('Principal Component')\n",
    "ax.set_ylabel('Explained Variance')\n",
    "plt.grid()\n",
    "plt.legend()\n",
    "plt.show()"
   ]
  },
  {
   "cell_type": "markdown",
   "metadata": {
    "papermill": {
     "duration": 0.146007,
     "end_time": "2021-12-25T19:37:40.443743",
     "exception": false,
     "start_time": "2021-12-25T19:37:40.297736",
     "status": "completed"
    },
    "tags": []
   },
   "source": [
    "**Inference:** We shall avoid performing dimensionality reduction for the current problem."
   ]
  },
  {
   "cell_type": "code",
   "execution_count": null,
   "metadata": {
    "execution": {
     "iopub.execute_input": "2022-01-26T19:12:11.647013Z",
     "iopub.status.busy": "2022-01-26T19:12:11.646223Z",
     "iopub.status.idle": "2022-01-26T19:12:21.61226Z",
     "shell.execute_reply": "2022-01-26T19:12:21.611496Z",
     "shell.execute_reply.started": "2022-01-26T19:12:11.646975Z"
    },
    "papermill": {
     "duration": 34.095832,
     "end_time": "2021-12-25T19:38:14.688301",
     "exception": false,
     "start_time": "2021-12-25T19:37:40.592469",
     "status": "completed"
    },
    "tags": []
   },
   "outputs": [],
   "source": [
    "#Applying PCA Transformations\n",
    "\n",
    "# scores1.append(f1_score(Test_Y,LogisticRegression().fit(Train_X_std, Train_Y).predict(Test_X_std),average='weighted')*100)\n",
    "# scores2.append(f1_score(Test_Y,RandomForestClassifier().fit(Train_X_std, Train_Y).predict(Test_X_std),average='weighted')*100)\n",
    "# scores3.append(f1_score(Test_Y,XGBClassifier().fit(Train_X_std, Train_Y, eval_metric='logloss').predict(Test_X_std),average='weighted')*100)\n",
    "\n",
    "scores1=[]; scores2=[]; scores3=[]\n",
    "for i in tqdm(range(len(X.columns.values))):\n",
    "    pca = PCA(n_components=Train_X_std.shape[1]-i)\n",
    "    Train_X_std_pca = pca.fit_transform(Train_X_std)\n",
    "    #print('The shape of final transformed training feature set:')\n",
    "    #print(Train_X_std_pca.shape)\n",
    "    Train_X_std_pca = pd.DataFrame(Train_X_std_pca)\n",
    "\n",
    "    Test_X_std_pca = pca.transform(Test_X_std)\n",
    "    #print('\\nThe shape of final transformed testing feature set:')\n",
    "    #print(Test_X_std_pca.shape)\n",
    "    Test_X_std_pca = pd.DataFrame(Test_X_std_pca)\n",
    "    \n",
    "    scores1.append(f1_score(Test_Y,LogisticRegression().fit(Train_X_std_pca, Train_Y).predict(Test_X_std_pca),average='weighted')*100)\n",
    "    scores2.append(f1_score(Test_Y,RandomForestClassifier().fit(Train_X_std_pca, Train_Y).predict(Test_X_std_pca),average='weighted')*100)\n",
    "    scores3.append(f1_score(Test_Y,XGBClassifier().fit(Train_X_std_pca, Train_Y, eval_metric='logloss').predict(Test_X_std_pca),average='weighted')*100)\n",
    "\n",
    "    \n",
    "plt.plot(scores1, label='LR')\n",
    "plt.plot(scores2, label='RF')\n",
    "plt.plot(scores3, label='XG')\n",
    "#plt.ylim([0.80,0.84])\n",
    "plt.legend()\n",
    "plt.grid()\n",
    "plt.show()"
   ]
  },
  {
   "cell_type": "markdown",
   "metadata": {
    "id": "bcd8927a",
    "papermill": {
     "duration": 0.157711,
     "end_time": "2021-12-25T19:38:14.999448",
     "exception": false,
     "start_time": "2021-12-25T19:38:14.841737",
     "status": "completed"
    },
    "tags": []
   },
   "source": [
    "**Inference:** In VIF, RFE & PCA Techniques, we did notice any better scores upon dropping some multicollinear features. But in order to avoid the curse of dimensionality, we can capture top 90% of the data Variance explained by top n PCA components."
   ]
  },
  {
   "cell_type": "code",
   "execution_count": null,
   "metadata": {
    "execution": {
     "iopub.execute_input": "2022-01-26T19:12:21.613678Z",
     "iopub.status.busy": "2022-01-26T19:12:21.613488Z",
     "iopub.status.idle": "2022-01-26T19:12:22.291235Z",
     "shell.execute_reply": "2022-01-26T19:12:22.290485Z",
     "shell.execute_reply.started": "2022-01-26T19:12:21.613653Z"
    },
    "papermill": {
     "duration": 1.130186,
     "end_time": "2021-12-25T19:38:16.281308",
     "exception": false,
     "start_time": "2021-12-25T19:38:15.151122",
     "status": "completed"
    },
    "tags": []
   },
   "outputs": [],
   "source": [
    "#### Finalising the shortlisted features\n",
    "\n",
    "rfe = RFE(LR,n_features_to_select=len(Train_X_std.columns))   \n",
    "rfe = rfe.fit(Train_X_std, Train_Y)\n",
    "\n",
    "print(f1_score(Test_Y,LogisticRegression().fit(Train_X_std[Train_X_std.columns[rfe.support_]], Train_Y).predict(Test_X_std[Train_X_std.columns[rfe.support_]]),average='weighted')*100)\n",
    "print(f1_score(Test_Y,RandomForestClassifier().fit(Train_X_std[Train_X_std.columns[rfe.support_]], Train_Y).predict(Test_X_std[Train_X_std.columns[rfe.support_]]),average='weighted')*100)\n",
    "print(f1_score(Test_Y,XGBClassifier().fit(Train_X_std[Train_X_std.columns[rfe.support_]], Train_Y, eval_metric='logloss').predict(Test_X_std[Train_X_std.columns[rfe.support_]]),average='weighted')*100)\n",
    "    \n",
    "# Train_X_std = Train_X_std[Train_X_std.columns[rfe.support_]]\n",
    "# Test_X_std = Test_X_std[Test_X_std.columns[rfe.support_]]\n",
    "\n",
    "print(Train_X_std.shape)\n",
    "print(Test_X_std.shape)"
   ]
  },
  {
   "cell_type": "markdown",
   "metadata": {
    "id": "ea9fba59",
    "papermill": {
     "duration": 0.185648,
     "end_time": "2021-12-25T19:38:16.652566",
     "exception": false,
     "start_time": "2021-12-25T19:38:16.466918",
     "status": "completed"
    },
    "tags": []
   },
   "source": [
    "---"
   ]
  },
  {
   "cell_type": "markdown",
   "metadata": {
    "id": "286c06ca",
    "papermill": {
     "duration": 0.158375,
     "end_time": "2021-12-25T19:38:16.969819",
     "exception": false,
     "start_time": "2021-12-25T19:38:16.811444",
     "status": "completed"
    },
    "tags": []
   },
   "source": [
    "# <center> 6. Predictive Modeling"
   ]
  },
  {
   "cell_type": "code",
   "execution_count": null,
   "metadata": {
    "execution": {
     "iopub.execute_input": "2022-01-26T19:12:22.29554Z",
     "iopub.status.busy": "2022-01-26T19:12:22.292653Z",
     "iopub.status.idle": "2022-01-26T19:12:22.316189Z",
     "shell.execute_reply": "2022-01-26T19:12:22.314674Z",
     "shell.execute_reply.started": "2022-01-26T19:12:22.295497Z"
    },
    "id": "dcc7ddf4",
    "outputId": "0a6819e7-eb1b-4621-ec69-13380967b6e6",
    "papermill": {
     "duration": 0.180278,
     "end_time": "2021-12-25T19:38:17.30722",
     "exception": false,
     "start_time": "2021-12-25T19:38:17.126942",
     "status": "completed"
    },
    "tags": []
   },
   "outputs": [],
   "source": [
    "#Let us create first create a table to store the results of various models \n",
    "\n",
    "Evaluation_Results = pd.DataFrame(np.zeros((8,5)), columns=['Accuracy', 'Precision','Recall','F1-score','AUC-ROC score'])\n",
    "Evaluation_Results.index=['Logistic Regression (LR)','Decision Tree Classifier (DT)','Random Forest Classifier (RF)','Naïve Bayes Classifier (NB)',\n",
    "                         'Support Vector Machine (SVM)','K Nearest Neighbours (KNN)', 'Gradient Boosting (GB)','Extreme Gradient Boosting (XGB)']\n",
    "Evaluation_Results"
   ]
  },
  {
   "cell_type": "code",
   "execution_count": null,
   "metadata": {
    "execution": {
     "iopub.execute_input": "2022-01-26T19:12:22.317438Z",
     "iopub.status.busy": "2022-01-26T19:12:22.317183Z",
     "iopub.status.idle": "2022-01-26T19:12:22.332342Z",
     "shell.execute_reply": "2022-01-26T19:12:22.331635Z",
     "shell.execute_reply.started": "2022-01-26T19:12:22.317403Z"
    },
    "id": "26577fca",
    "papermill": {
     "duration": 0.173077,
     "end_time": "2021-12-25T19:38:17.640442",
     "exception": false,
     "start_time": "2021-12-25T19:38:17.467365",
     "status": "completed"
    },
    "tags": []
   },
   "outputs": [],
   "source": [
    "#Let us define functions to summarise the Prediction's scores .\n",
    "\n",
    "#Classification Summary Function\n",
    "def Classification_Summary(pred,pred_prob,i):\n",
    "    Evaluation_Results.iloc[i]['Accuracy']=round(accuracy_score(Test_Y, pred),3)*100   \n",
    "    Evaluation_Results.iloc[i]['Precision']=round(precision_score(Test_Y, pred, average='weighted'),3)*100 #\n",
    "    Evaluation_Results.iloc[i]['Recall']=round(recall_score(Test_Y, pred, average='weighted'),3)*100 #\n",
    "    Evaluation_Results.iloc[i]['F1-score']=round(f1_score(Test_Y, pred, average='weighted'),3)*100 #\n",
    "    Evaluation_Results.iloc[i]['AUC-ROC score']=round(roc_auc_score(Test_Y, pred_prob[:,1], multi_class='ovr'),3)*100 #[:, 1]\n",
    "    print('{}{}\\033[1m Evaluating {} \\033[0m{}{}\\n'.format('<'*3,'-'*35,Evaluation_Results.index[i], '-'*35,'>'*3))\n",
    "    print('Accuracy = {}%'.format(round(accuracy_score(Test_Y, pred),3)*100))\n",
    "    print('F1 Score = {}%'.format(round(f1_score(Test_Y, pred, average='weighted'),3)*100)) #\n",
    "    print('\\n \\033[1mConfusiton Matrix:\\033[0m\\n',confusion_matrix(Test_Y, pred))\n",
    "    print('\\n\\033[1mClassification Report:\\033[0m\\n',classification_report(Test_Y, pred))\n",
    "    \n",
    "    auc_roc(Test_Y, pred_prob, curves=['each_class'])\n",
    "    plt.show()\n",
    "\n",
    "#Visualising Function\n",
    "def AUC_ROC_plot(Test_Y, pred):    \n",
    "    ref = [0 for _ in range(len(Test_Y))]\n",
    "    ref_auc = roc_auc_score(Test_Y, ref)\n",
    "    lr_auc = roc_auc_score(Test_Y, pred)\n",
    "\n",
    "    ns_fpr, ns_tpr, _ = roc_curve(Test_Y, ref)\n",
    "    lr_fpr, lr_tpr, _ = roc_curve(Test_Y, pred)\n",
    "\n",
    "    plt.plot(ns_fpr, ns_tpr, linestyle='--')\n",
    "    plt.plot(lr_fpr, lr_tpr, marker='.', label='AUC = {}'.format(round(roc_auc_score(Test_Y, pred)*100,2))) \n",
    "    plt.xlabel('False Positive Rate')\n",
    "    plt.ylabel('True Positive Rate')\n",
    "    plt.legend()\n",
    "    plt.show()"
   ]
  },
  {
   "cell_type": "markdown",
   "metadata": {
    "id": "5737ebe9",
    "papermill": {
     "duration": 0.155369,
     "end_time": "2021-12-25T19:38:17.954671",
     "exception": false,
     "start_time": "2021-12-25T19:38:17.799302",
     "status": "completed"
    },
    "tags": []
   },
   "source": [
    "---"
   ]
  },
  {
   "cell_type": "markdown",
   "metadata": {
    "id": "77912773",
    "papermill": {
     "duration": 0.16214,
     "end_time": "2021-12-25T19:38:18.295807",
     "exception": false,
     "start_time": "2021-12-25T19:38:18.133667",
     "status": "completed"
    },
    "tags": []
   },
   "source": [
    "## 1. Logistic Regression:"
   ]
  },
  {
   "cell_type": "code",
   "execution_count": null,
   "metadata": {
    "execution": {
     "iopub.execute_input": "2022-01-26T19:12:22.333793Z",
     "iopub.status.busy": "2022-01-26T19:12:22.333301Z",
     "iopub.status.idle": "2022-01-26T19:12:26.186254Z",
     "shell.execute_reply": "2022-01-26T19:12:26.185375Z",
     "shell.execute_reply.started": "2022-01-26T19:12:22.333764Z"
    },
    "id": "6980327a",
    "outputId": "9a6fa6dd-f60f-4e24-ec4a-7261c86cb609",
    "papermill": {
     "duration": 4.912881,
     "end_time": "2021-12-25T19:38:23.363722",
     "exception": false,
     "start_time": "2021-12-25T19:38:18.450841",
     "status": "completed"
    },
    "tags": []
   },
   "outputs": [],
   "source": [
    "# Building Logistic Regression Classifier\n",
    "\n",
    "LR_model = LogisticRegression()\n",
    "\n",
    "space = dict()\n",
    "space['solver'] = ['newton-cg', 'lbfgs', 'liblinear']\n",
    "space['penalty'] = ['l2'] #'none', 'l1', 'l2', 'elasticnet'\n",
    "space['C'] = loguniform(1e-5, 100)\n",
    "\n",
    "cv = RepeatedStratifiedKFold(n_splits=10, n_repeats=3, random_state=1)\n",
    "\n",
    "RCV = RandomizedSearchCV(LR_model, space, n_iter=50, scoring='roc_auc', n_jobs=-1, cv=5, random_state=1)\n",
    "\n",
    "LR = RCV.fit(Train_X_std, Train_Y).best_estimator_\n",
    "pred = LR.predict(Test_X_std)\n",
    "pred_prob = LR.predict_proba(Test_X_std)\n",
    "Classification_Summary(pred,pred_prob,0)\n",
    "\n",
    "print('\\n\\033[1mInterpreting the Output of Logistic Regression:\\n\\033[0m')\n",
    "\n",
    "print('intercept ', LR.intercept_[0])\n",
    "print('classes', LR.classes_)\n",
    "display(pd.DataFrame({'coeff': LR.coef_[0]}, index=Train_X_std.columns))"
   ]
  },
  {
   "cell_type": "markdown",
   "metadata": {
    "id": "ee2fdd6b",
    "papermill": {
     "duration": 0.155964,
     "end_time": "2021-12-25T19:38:23.679398",
     "exception": false,
     "start_time": "2021-12-25T19:38:23.523434",
     "status": "completed"
    },
    "tags": []
   },
   "source": [
    "---"
   ]
  },
  {
   "cell_type": "markdown",
   "metadata": {
    "id": "986ace46",
    "papermill": {
     "duration": 0.153843,
     "end_time": "2021-12-25T19:38:23.989705",
     "exception": false,
     "start_time": "2021-12-25T19:38:23.835862",
     "status": "completed"
    },
    "tags": []
   },
   "source": [
    "## 2. Decisoin Tree Classfier:"
   ]
  },
  {
   "cell_type": "code",
   "execution_count": null,
   "metadata": {
    "execution": {
     "iopub.execute_input": "2022-01-26T19:12:26.189053Z",
     "iopub.status.busy": "2022-01-26T19:12:26.188062Z",
     "iopub.status.idle": "2022-01-26T19:12:32.321498Z",
     "shell.execute_reply": "2022-01-26T19:12:32.320564Z",
     "shell.execute_reply.started": "2022-01-26T19:12:26.189005Z"
    },
    "id": "80477e47",
    "outputId": "87631b3c-1680-4260-cc62-5c14becad6cd",
    "papermill": {
     "duration": 13.844626,
     "end_time": "2021-12-25T19:38:37.993065",
     "exception": false,
     "start_time": "2021-12-25T19:38:24.148439",
     "status": "completed"
    },
    "tags": []
   },
   "outputs": [],
   "source": [
    "#Building Decision Tree Classifier\n",
    "\n",
    "DT_model = DecisionTreeClassifier()\n",
    "\n",
    "param_dist = {\"max_depth\": [3, None],\n",
    "              \"max_features\": randint(1, len(features)-1),\n",
    "              \"min_samples_leaf\": randint(1, len(features)-1),\n",
    "              \"criterion\": [\"gini\", \"entropy\"]}\n",
    "\n",
    "cv = RepeatedStratifiedKFold(n_splits=10, n_repeats=3, random_state=1)\n",
    "\n",
    "RCV = RandomizedSearchCV(DT_model, param_dist, n_iter=50, scoring='roc_auc', n_jobs=-1, cv=5, random_state=1)\n",
    "\n",
    "DT = RCV.fit(Train_X_std, Train_Y).best_estimator_\n",
    "pred = DT.predict(Test_X_std)\n",
    "pred_prob = DT.predict_proba(Test_X_std)\n",
    "Classification_Summary(pred,pred_prob,1)\n",
    "\n",
    "print('\\n\\033[1mInterpreting the output of Decision Tree:\\n\\033[0m')\n",
    "tree.plot_tree(DT)\n",
    "plt.show()"
   ]
  },
  {
   "cell_type": "markdown",
   "metadata": {
    "id": "3be2c8a6",
    "papermill": {
     "duration": 0.165064,
     "end_time": "2021-12-25T19:38:38.330522",
     "exception": false,
     "start_time": "2021-12-25T19:38:38.165458",
     "status": "completed"
    },
    "tags": []
   },
   "source": [
    "---"
   ]
  },
  {
   "cell_type": "markdown",
   "metadata": {
    "id": "f9b4a1f0",
    "papermill": {
     "duration": 0.159425,
     "end_time": "2021-12-25T19:38:38.656371",
     "exception": false,
     "start_time": "2021-12-25T19:38:38.496946",
     "status": "completed"
    },
    "tags": []
   },
   "source": [
    "## 3. Random Forest Classfier:"
   ]
  },
  {
   "cell_type": "code",
   "execution_count": null,
   "metadata": {
    "execution": {
     "iopub.execute_input": "2022-01-26T19:12:32.323399Z",
     "iopub.status.busy": "2022-01-26T19:12:32.323084Z",
     "iopub.status.idle": "2022-01-26T19:12:51.70771Z",
     "shell.execute_reply": "2022-01-26T19:12:51.706907Z",
     "shell.execute_reply.started": "2022-01-26T19:12:32.323359Z"
    },
    "id": "72085a34",
    "outputId": "16ff1405-82f3-448d-e3ce-6348bba76561",
    "papermill": {
     "duration": 25.045626,
     "end_time": "2021-12-25T19:39:03.862355",
     "exception": false,
     "start_time": "2021-12-25T19:38:38.816729",
     "status": "completed"
    },
    "tags": []
   },
   "outputs": [],
   "source": [
    "# Building Random-Forest Classifier\n",
    "\n",
    "RF_model = RandomForestClassifier()\n",
    "\n",
    "param_dist={'bootstrap': [True, False],\n",
    "            'max_depth': [10, 20, 50, 100, None],\n",
    "            'max_features': ['auto', 'sqrt'],\n",
    "            'min_samples_leaf': [1, 2, 4],\n",
    "            'min_samples_split': [2, 5, 10],\n",
    "            'n_estimators': [50, 100]}\n",
    "\n",
    "cv = RepeatedStratifiedKFold(n_splits=10, n_repeats=3, random_state=1)\n",
    "\n",
    "RCV = RandomizedSearchCV(RF_model, param_dist, n_iter=50, scoring='roc_auc', n_jobs=-1, cv=5, random_state=1)\n",
    "\n",
    "RF = RCV.fit(Train_X_std, Train_Y).best_estimator_\n",
    "pred = RF.predict(Test_X_std)\n",
    "pred_prob = RF.predict_proba(Test_X_std)\n",
    "Classification_Summary(pred,pred_prob,2)\n",
    "\n",
    "print('\\n\\033[1mInterpreting the output of Random Forest:\\n\\033[0m')\n",
    "rfi=pd.Series(RF.feature_importances_, index=Train_X_std.columns).sort_values(ascending=False)\n",
    "plt.barh(rfi.index,rfi.values)\n",
    "plt.show()"
   ]
  },
  {
   "cell_type": "markdown",
   "metadata": {
    "id": "1b05ceec",
    "papermill": {
     "duration": 0.165949,
     "end_time": "2021-12-25T19:39:04.199649",
     "exception": false,
     "start_time": "2021-12-25T19:39:04.0337",
     "status": "completed"
    },
    "tags": []
   },
   "source": [
    "---"
   ]
  },
  {
   "cell_type": "markdown",
   "metadata": {
    "id": "be513488",
    "papermill": {
     "duration": 0.165747,
     "end_time": "2021-12-25T19:39:04.527823",
     "exception": false,
     "start_time": "2021-12-25T19:39:04.362076",
     "status": "completed"
    },
    "tags": []
   },
   "source": [
    "## 4. Naive Bayes Classfier:"
   ]
  },
  {
   "cell_type": "code",
   "execution_count": null,
   "metadata": {
    "execution": {
     "iopub.execute_input": "2022-01-26T19:12:51.709854Z",
     "iopub.status.busy": "2022-01-26T19:12:51.709313Z",
     "iopub.status.idle": "2022-01-26T19:12:52.065897Z",
     "shell.execute_reply": "2022-01-26T19:12:52.064983Z",
     "shell.execute_reply.started": "2022-01-26T19:12:51.709817Z"
    },
    "id": "664eea17",
    "outputId": "19165b81-4639-478c-c52d-3a1e35fba094",
    "papermill": {
     "duration": 0.517304,
     "end_time": "2021-12-25T19:39:05.207155",
     "exception": false,
     "start_time": "2021-12-25T19:39:04.689851",
     "status": "completed"
    },
    "tags": []
   },
   "outputs": [],
   "source": [
    "# Building Naive Bayes Classifier\n",
    "\n",
    "NB_model = BernoulliNB()\n",
    "\n",
    "params = {'alpha': [0.01, 0.1, 0.5, 1.0, 10.0]}\n",
    "cv = RepeatedStratifiedKFold(n_splits=10, n_repeats=3, random_state=1)\n",
    "\n",
    "RCV = RandomizedSearchCV(NB_model, params, n_iter=50, scoring='roc_auc', n_jobs=-1, cv=5, random_state=1)\n",
    "\n",
    "NB = RCV.fit(Train_X_std, Train_Y).best_estimator_\n",
    "pred = NB.predict(Test_X_std)\n",
    "pred_prob = NB.predict_proba(Test_X_std)\n",
    "Classification_Summary(pred,pred_prob,3)"
   ]
  },
  {
   "cell_type": "markdown",
   "metadata": {
    "id": "32275875",
    "papermill": {
     "duration": 0.169627,
     "end_time": "2021-12-25T19:39:05.543782",
     "exception": false,
     "start_time": "2021-12-25T19:39:05.374155",
     "status": "completed"
    },
    "tags": []
   },
   "source": [
    "---"
   ]
  },
  {
   "cell_type": "markdown",
   "metadata": {
    "id": "dd030272",
    "papermill": {
     "duration": 0.169792,
     "end_time": "2021-12-25T19:39:05.881443",
     "exception": false,
     "start_time": "2021-12-25T19:39:05.711651",
     "status": "completed"
    },
    "tags": []
   },
   "source": [
    "## 5. Support Vector Machine Classfier:"
   ]
  },
  {
   "cell_type": "code",
   "execution_count": null,
   "metadata": {
    "execution": {
     "iopub.execute_input": "2022-01-26T19:12:52.068044Z",
     "iopub.status.busy": "2022-01-26T19:12:52.067356Z",
     "iopub.status.idle": "2022-01-26T19:13:02.191532Z",
     "shell.execute_reply": "2022-01-26T19:13:02.190539Z",
     "shell.execute_reply.started": "2022-01-26T19:12:52.067998Z"
    },
    "id": "8888c8d8",
    "outputId": "5a7d2fd7-babc-4e17-ebbc-bb5a99a58ae0",
    "papermill": {
     "duration": 38.894733,
     "end_time": "2021-12-25T19:39:44.94653",
     "exception": false,
     "start_time": "2021-12-25T19:39:06.051797",
     "status": "completed"
    },
    "tags": []
   },
   "outputs": [],
   "source": [
    "# Building Support Vector Machine Classifier\n",
    "\n",
    "SVM_model = SVC(probability=True).fit(Train_X_std, Train_Y)\n",
    "\n",
    "svm_param = {\"C\": [.01, .1, 1, 5, 10, 100],             \n",
    "             \"gamma\": [.01, .1, 1, 5, 10, 100],\n",
    "             \"kernel\": [\"rbf\"],\n",
    "             \"random_state\": [1]}\n",
    "\n",
    "cv = RepeatedStratifiedKFold(n_splits=10, n_repeats=3, random_state=1)\n",
    "\n",
    "RCV = RandomizedSearchCV(SVM_model, svm_param, n_iter=50, scoring='roc_auc', n_jobs=-1, cv=5, random_state=1)\n",
    "\n",
    "SVM = RCV.fit(Train_X_std, Train_Y).best_estimator_\n",
    "pred = SVM.predict(Test_X_std)\n",
    "pred_prob = SVM.predict_proba(Test_X_std)\n",
    "Classification_Summary(pred,pred_prob,4)"
   ]
  },
  {
   "cell_type": "markdown",
   "metadata": {
    "id": "4845a263",
    "papermill": {
     "duration": 0.16539,
     "end_time": "2021-12-25T19:39:45.280409",
     "exception": false,
     "start_time": "2021-12-25T19:39:45.115019",
     "status": "completed"
    },
    "tags": []
   },
   "source": [
    "---"
   ]
  },
  {
   "cell_type": "markdown",
   "metadata": {
    "id": "ee81b23a",
    "papermill": {
     "duration": 0.165149,
     "end_time": "2021-12-25T19:39:45.611559",
     "exception": false,
     "start_time": "2021-12-25T19:39:45.44641",
     "status": "completed"
    },
    "tags": []
   },
   "source": [
    "## 6. K-Nearest Neighbours Classfier:"
   ]
  },
  {
   "cell_type": "code",
   "execution_count": null,
   "metadata": {
    "execution": {
     "iopub.execute_input": "2022-01-26T19:13:02.193599Z",
     "iopub.status.busy": "2022-01-26T19:13:02.193303Z",
     "iopub.status.idle": "2022-01-26T19:13:04.207869Z",
     "shell.execute_reply": "2022-01-26T19:13:04.207246Z",
     "shell.execute_reply.started": "2022-01-26T19:13:02.193558Z"
    },
    "id": "30480fe7",
    "outputId": "4cfa8724-b12b-4c94-a281-2f5951ec7a88",
    "papermill": {
     "duration": 6.782861,
     "end_time": "2021-12-25T19:39:52.562119",
     "exception": false,
     "start_time": "2021-12-25T19:39:45.779258",
     "status": "completed"
    },
    "tags": []
   },
   "outputs": [],
   "source": [
    "# Building K-Neareset Neighbours Classifier\n",
    "\n",
    "KNN_model = KNeighborsClassifier()\n",
    "\n",
    "knn_param = {\"n_neighbors\": [i for i in range(1,30,5)],\n",
    "             \"weights\": [\"uniform\", \"distance\"],\n",
    "             \"algorithm\": [\"ball_tree\", \"kd_tree\", \"brute\"],\n",
    "             \"leaf_size\": [1, 10, 30],\n",
    "             \"p\": [1,2]}\n",
    "\n",
    "cv = RepeatedStratifiedKFold(n_splits=10, n_repeats=3, random_state=1)\n",
    "\n",
    "RCV = RandomizedSearchCV(KNN_model, knn_param, n_iter=50, scoring='roc_auc', n_jobs=-1, cv=5, random_state=1)\n",
    "\n",
    "KNN = RCV.fit(Train_X_std, Train_Y).best_estimator_\n",
    "pred = KNN.predict(Test_X_std)\n",
    "pred_prob = KNN.predict_proba(Test_X_std)\n",
    "Classification_Summary(pred,pred_prob,5)"
   ]
  },
  {
   "cell_type": "markdown",
   "metadata": {
    "id": "bfaa8d63",
    "papermill": {
     "duration": 0.169035,
     "end_time": "2021-12-25T19:39:52.903589",
     "exception": false,
     "start_time": "2021-12-25T19:39:52.734554",
     "status": "completed"
    },
    "tags": []
   },
   "source": [
    "---"
   ]
  },
  {
   "cell_type": "markdown",
   "metadata": {
    "id": "611010b4",
    "papermill": {
     "duration": 0.16871,
     "end_time": "2021-12-25T19:39:53.243749",
     "exception": false,
     "start_time": "2021-12-25T19:39:53.075039",
     "status": "completed"
    },
    "tags": []
   },
   "source": [
    "## 7. Gradient Boosting Classfier:"
   ]
  },
  {
   "cell_type": "code",
   "execution_count": null,
   "metadata": {
    "execution": {
     "iopub.execute_input": "2022-01-26T19:17:33.555658Z",
     "iopub.status.busy": "2022-01-26T19:17:33.555309Z",
     "iopub.status.idle": "2022-01-26T19:17:34.155247Z",
     "shell.execute_reply": "2022-01-26T19:17:34.154388Z",
     "shell.execute_reply.started": "2022-01-26T19:17:33.555619Z"
    },
    "id": "f68269a5",
    "outputId": "b591f6e2-6ec8-4d0a-c7ce-ebc980923db6",
    "papermill": {
     "duration": 121.601655,
     "end_time": "2021-12-25T19:41:55.015524",
     "exception": false,
     "start_time": "2021-12-25T19:39:53.413869",
     "status": "completed"
    },
    "tags": []
   },
   "outputs": [],
   "source": [
    "# Building Gradient Boosting Classifier\n",
    "\n",
    "GB_model = GradientBoostingClassifier().fit(Train_X_std, Train_Y)\n",
    "param_dist = {\n",
    "    \"n_estimators\":[5,20,100,500],\n",
    "    \"max_depth\":[1,3,5,7,9],\n",
    "    \"learning_rate\":[0.01,0.1,1,10,100]\n",
    "}\n",
    "\n",
    "cv = RepeatedStratifiedKFold(n_splits=10, n_repeats=3, random_state=1)\n",
    "\n",
    "#RCV = RandomizedSearchCV(GB_model, param_dist, n_iter=50, scoring='roc_auc', n_jobs=-1, cv=5, random_state=1)\n",
    "\n",
    "GB = GB_model.fit(Train_X_std, Train_Y)#.best_estimator_\n",
    "pred = GB.predict(Test_X_std)\n",
    "pred_prob = GB.predict_proba(Test_X_std)\n",
    "Classification_Summary(pred,pred_prob,6)"
   ]
  },
  {
   "cell_type": "markdown",
   "metadata": {
    "id": "d1ab6dac",
    "papermill": {
     "duration": 0.172298,
     "end_time": "2021-12-25T19:41:55.360916",
     "exception": false,
     "start_time": "2021-12-25T19:41:55.188618",
     "status": "completed"
    },
    "tags": []
   },
   "source": [
    "---"
   ]
  },
  {
   "cell_type": "markdown",
   "metadata": {
    "id": "7eba3bc9",
    "papermill": {
     "duration": 0.168921,
     "end_time": "2021-12-25T19:41:55.700687",
     "exception": false,
     "start_time": "2021-12-25T19:41:55.531766",
     "status": "completed"
    },
    "tags": []
   },
   "source": [
    "## 8. Extreme Gradient Boosting Classfier:"
   ]
  },
  {
   "cell_type": "code",
   "execution_count": null,
   "metadata": {
    "execution": {
     "iopub.execute_input": "2022-01-26T19:14:01.950579Z",
     "iopub.status.busy": "2022-01-26T19:14:01.949653Z",
     "iopub.status.idle": "2022-01-26T19:14:02.743987Z",
     "shell.execute_reply": "2022-01-26T19:14:02.743058Z",
     "shell.execute_reply.started": "2022-01-26T19:14:01.950527Z"
    },
    "id": "2137ccd9",
    "outputId": "03ce6bb3-ac61-4c1e-d267-712f2bc0130f",
    "papermill": {
     "duration": 1.182765,
     "end_time": "2021-12-25T19:41:57.053062",
     "exception": false,
     "start_time": "2021-12-25T19:41:55.870297",
     "status": "completed"
    },
    "tags": []
   },
   "outputs": [],
   "source": [
    "# Building Extreme Gradient Boosting Classifier\n",
    "\n",
    "XGB_model = XGBClassifier()#.fit(Train_X_std, Train_Y, eval_metric='logloss')\n",
    "\n",
    "param_dist = {\n",
    " \"learning_rate\" : [0.05,0.10,0.15,0.20,0.25,0.30],\n",
    " \"max_depth\" : [ 3, 4, 5, 6, 8, 10, 12, 15],\n",
    " \"min_child_weight\" : [ 1, 3, 5, 7 ],\n",
    " \"gamma\": [ 0.0, 0.1, 0.2 , 0.3, 0.4 ],\n",
    " \"colsample_bytree\" : [ 0.3, 0.4, 0.5 , 0.7 ]\n",
    "}\n",
    "\n",
    "cv = RepeatedStratifiedKFold(n_splits=10, n_repeats=3, random_state=1)\n",
    "\n",
    "#RCV = RandomizedSearchCV(XGB_model, param_dist, n_iter=50, scoring='roc_auc', n_jobs=-1, cv=5, random_state=1)\n",
    "\n",
    "XGB = XGB_model.fit(Train_X_std, Train_Y, eval_metric='logloss')#.best_estimator_\n",
    "pred = XGB.predict(Test_X_std)\n",
    "pred_prob = XGB.predict_proba(Test_X_std)\n",
    "Classification_Summary(pred,pred_prob,7)\n",
    "\n",
    "xgbf=pd.DataFrame(XGB.feature_importances_, index=Train_X_std.columns).sort_values(by=0)\n",
    "plt.barh(xgbf.index,xgbf.values[:,0])\n",
    "plt.show()"
   ]
  },
  {
   "cell_type": "code",
   "execution_count": null,
   "metadata": {
    "execution": {
     "iopub.execute_input": "2022-01-26T19:17:40.870581Z",
     "iopub.status.busy": "2022-01-26T19:17:40.870088Z",
     "iopub.status.idle": "2022-01-26T19:17:42.868183Z",
     "shell.execute_reply": "2022-01-26T19:17:42.867416Z",
     "shell.execute_reply.started": "2022-01-26T19:17:40.87055Z"
    },
    "id": "fac2880e",
    "outputId": "ab873a0d-6b6f-4511-ae69-b6701d54dc0b",
    "papermill": {
     "duration": 2.554468,
     "end_time": "2021-12-25T19:41:59.790759",
     "exception": false,
     "start_time": "2021-12-25T19:41:57.236291",
     "status": "completed"
    },
    "tags": []
   },
   "outputs": [],
   "source": [
    "#Plotting Confusion-Matrix of all the predictive Models\n",
    "\n",
    "def plot_cm(y_true, y_pred):\n",
    "    cm = confusion_matrix(y_true, y_pred, labels=np.unique(y_true))\n",
    "    cm_sum = np.sum(cm, axis=1, keepdims=True)\n",
    "    cm_perc = cm / cm_sum.astype(float) * 100\n",
    "    annot = np.empty_like(cm).astype(str)\n",
    "    nrows, ncols = cm.shape\n",
    "    for i in range(nrows):\n",
    "        for j in range(ncols):\n",
    "            c = cm[i, j]\n",
    "            p = cm_perc[i, j]\n",
    "            if i == j:\n",
    "                s = cm_sum[i]\n",
    "                annot[i, j] = '%.1f%%\\n%d/%d' % (p, c, s)\n",
    "            elif c == 0:\n",
    "                annot[i, j] = ''\n",
    "            else:\n",
    "                annot[i, j] = '%.1f%%\\n%d' % (p, c)\n",
    "    cm = pd.DataFrame(cm, index=np.unique(y_true), columns=np.unique(y_true))\n",
    "    cm.columns=labels\n",
    "    cm.index=labels\n",
    "    cm.index.name = 'Actual'\n",
    "    cm.columns.name = 'Predicted'\n",
    "    #fig, ax = plt.subplots()\n",
    "    sns.heatmap(cm, annot=annot, fmt='')# cmap= \"GnBu\"\n",
    "    \n",
    "def conf_mat_plot(all_models):\n",
    "    plt.figure(figsize=[20,3.5*math.ceil(len(all_models)*len(labels)/14)])\n",
    "    \n",
    "    for i in range(len(all_models)):\n",
    "        if len(labels)<=4:\n",
    "            plt.subplot(2,4,i+1)\n",
    "        else:\n",
    "            plt.subplot(math.ceil(len(all_models)/3),3,i+1)\n",
    "        pred = all_models[i].predict(Test_X_std)\n",
    "        #plot_cm(Test_Y, pred)\n",
    "        sns.heatmap(confusion_matrix(Test_Y, pred), annot=True, cmap='Blues', fmt='.0f') #vmin=0,vmax=5\n",
    "        plt.title(Evaluation_Results.index[i])\n",
    "    plt.tight_layout()\n",
    "    plt.show()\n",
    "\n",
    "conf_mat_plot([LR,DT,RF,NB,SVM,KNN,GB,XGB])"
   ]
  },
  {
   "cell_type": "code",
   "execution_count": null,
   "metadata": {
    "execution": {
     "iopub.execute_input": "2022-01-26T19:17:42.869867Z",
     "iopub.status.busy": "2022-01-26T19:17:42.869666Z",
     "iopub.status.idle": "2022-01-26T19:17:43.352642Z",
     "shell.execute_reply": "2022-01-26T19:17:43.351801Z",
     "shell.execute_reply.started": "2022-01-26T19:17:42.869841Z"
    },
    "id": "46bc3267",
    "outputId": "6b166b75-3bc0-4514-e486-2f7e06eb58b8",
    "papermill": {
     "duration": 0.617267,
     "end_time": "2021-12-25T19:42:00.589507",
     "exception": false,
     "start_time": "2021-12-25T19:41:59.97224",
     "status": "completed"
    },
    "tags": []
   },
   "outputs": [],
   "source": [
    "#Comparing all the models Scores\n",
    "\n",
    "print('\\033[1mML Algorithms Comparison'.center(100))\n",
    "plt.figure(figsize=[12,8])\n",
    "sns.heatmap(Evaluation_Results, annot=True, vmin=60, vmax=95, cmap='Blues', fmt='.1f')\n",
    "plt.show()"
   ]
  },
  {
   "cell_type": "markdown",
   "metadata": {
    "id": "5372172f",
    "papermill": {
     "duration": 0.176817,
     "end_time": "2021-12-25T19:42:00.94983",
     "exception": false,
     "start_time": "2021-12-25T19:42:00.773013",
     "status": "completed"
    },
    "tags": []
   },
   "source": [
    "**Insights:** For the current problem statement, it is more important to focus on the F1-score. Except Naive Baye's Classifier, most of the algorithms perform well. The best performing algorithm is Extreme Gradient Boosting Classifier..."
   ]
  },
  {
   "cell_type": "markdown",
   "metadata": {
    "id": "b307e664",
    "papermill": {
     "duration": 0.177606,
     "end_time": "2021-12-25T19:42:01.30747",
     "exception": false,
     "start_time": "2021-12-25T19:42:01.129864",
     "status": "completed"
    },
    "tags": []
   },
   "source": [
    "---"
   ]
  },
  {
   "cell_type": "markdown",
   "metadata": {
    "id": "7938051f",
    "papermill": {
     "duration": 0.176902,
     "end_time": "2021-12-25T19:42:01.661328",
     "exception": false,
     "start_time": "2021-12-25T19:42:01.484426",
     "status": "completed"
    },
    "tags": []
   },
   "source": [
    "# <center> 7. Project Outcomes & Conclusions"
   ]
  },
  {
   "cell_type": "markdown",
   "metadata": {
    "id": "c207a2b2",
    "papermill": {
     "duration": 0.176325,
     "end_time": "2021-12-25T19:42:02.015564",
     "exception": false,
     "start_time": "2021-12-25T19:42:01.839239",
     "status": "completed"
    },
    "tags": []
   },
   "source": [
    "### Here are some of the key outcomes of the project:\n",
    "- The Dataset was small totally around 1338 samples & after preprocessing 17% of the datasamples were dropped. \n",
    "- The samples were highly imbalanced, hence SMOTE Technique was applied on the data to  balance the classes, adding 5.5% more samples to the dataset.\n",
    "- Visualising the distribution of data & their relationships, helped us to get some insights on the relationship between the featureset.\n",
    "- Feature Selection/Eliminination was carried out and appropriate features were shortlisted.\n",
    "- Testing multiple algorithms with fine-tuning hyperparamters gave us some understanding on the model performance for various algorithms on this specific dataset.\n",
    "- The boosting & ensemble algorithms perform the best on the current dataset, followed by Nearest Neighbours Algorithm.\n",
    "- Yet it wise to also consider simpler model like Logistic Regression as it is more generalisable & is computationally less expensive."
   ]
  },
  {
   "cell_type": "code",
   "execution_count": null,
   "metadata": {
    "execution": {
     "iopub.status.busy": "2022-01-26T19:13:53.648447Z",
     "iopub.status.idle": "2022-01-26T19:13:53.649021Z",
     "shell.execute_reply": "2022-01-26T19:13:53.648864Z",
     "shell.execute_reply.started": "2022-01-26T19:13:53.648843Z"
    },
    "papermill": {
     "duration": 0.183621,
     "end_time": "2021-12-25T19:42:02.375445",
     "exception": false,
     "start_time": "2021-12-25T19:42:02.191824",
     "status": "completed"
    },
    "tags": []
   },
   "outputs": [],
   "source": [
    "#<<<---------------------------------------THE END------------------------------------------------>>>"
   ]
  }
 ],
 "metadata": {
  "kernelspec": {
   "display_name": "Python 3 (ipykernel)",
   "language": "python",
   "name": "python3"
  },
  "language_info": {
   "codemirror_mode": {
    "name": "ipython",
    "version": 3
   },
   "file_extension": ".py",
   "mimetype": "text/x-python",
   "name": "python",
   "nbconvert_exporter": "python",
   "pygments_lexer": "ipython3",
   "version": "3.8.5"
  }
 },
 "nbformat": 4,
 "nbformat_minor": 4
}
